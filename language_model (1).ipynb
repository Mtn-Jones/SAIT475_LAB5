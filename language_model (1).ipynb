{
  "nbformat": 4,
  "nbformat_minor": 0,
  "metadata": {
    "colab": {
      "name": "language_model.ipynb",
      "provenance": [],
      "collapsed_sections": []
    },
    "kernelspec": {
      "name": "python3",
      "display_name": "Python 3"
    },
    "accelerator": "GPU"
  },
  "cells": [
    {
      "cell_type": "code",
      "metadata": {
        "id": "yTA7r-UtLIkk",
        "outputId": "8730f87e-4853-46a5-f66b-bf62cd1e2753",
        "colab": {
          "base_uri": "https://localhost:8080/",
          "height": 34
        }
      },
      "source": [
        "from google.colab import drive\n",
        "drive.mount('/content/drive')"
      ],
      "execution_count": null,
      "outputs": [
        {
          "output_type": "stream",
          "text": [
            "Mounted at /content/drive\n"
          ],
          "name": "stdout"
        }
      ]
    },
    {
      "cell_type": "code",
      "metadata": {
        "id": "hgjoDE-OJRgI"
      },
      "source": [
        "from fastai.text import *\n",
        "\n",
        "path = \"/content/drive/My Drive/DATA-475/imdb\""
      ],
      "execution_count": null,
      "outputs": []
    },
    {
      "cell_type": "code",
      "metadata": {
        "id": "Ng9a7n9kste4",
        "outputId": "04c5aacc-465f-4d11-d227-da1a5dc9a7db",
        "colab": {
          "base_uri": "https://localhost:8080/",
          "height": 17
        }
      },
      "source": [
        "# create TextLMDataBunch using the csv in path\n",
        "#     remember to specify the text column\n",
        "# data_lm = ...\n",
        "data_lm = TextLMDataBunch.from_csv(\n",
        "    path,\n",
        "    \"train.csv\",\n",
        "    text_cols=\"review\"\n",
        ")"
      ],
      "execution_count": null,
      "outputs": [
        {
          "output_type": "display_data",
          "data": {
            "text/html": [
              ""
            ],
            "text/plain": [
              "<IPython.core.display.HTML object>"
            ]
          },
          "metadata": {
            "tags": []
          }
        },
        {
          "output_type": "display_data",
          "data": {
            "text/html": [
              ""
            ],
            "text/plain": [
              "<IPython.core.display.HTML object>"
            ]
          },
          "metadata": {
            "tags": []
          }
        }
      ]
    },
    {
      "cell_type": "code",
      "metadata": {
        "id": "NCVGVEOWsS_G",
        "outputId": "50935e29-2ce8-4b3a-cd4a-2818f771ac7c",
        "colab": {
          "base_uri": "https://localhost:8080/",
          "height": 17
        }
      },
      "source": [
        "# create TextClasDataBunch using the csv in path\n",
        "#     remember to specify the text/label column\n",
        "#     specify test dataset, vocab, and bs\n",
        "# data_clas = ...\n",
        "data_clas = TextClasDataBunch.from_csv(\n",
        "    path,\n",
        "    \"train.csv\",\n",
        "    text_cols=\"review\",\n",
        "    label_cols=\"sentiment\",\n",
        "    vocab=data_lm.train_ds.vocab,\n",
        "    bs=32,\n",
        ")"
      ],
      "execution_count": null,
      "outputs": [
        {
          "output_type": "display_data",
          "data": {
            "text/html": [
              ""
            ],
            "text/plain": [
              "<IPython.core.display.HTML object>"
            ]
          },
          "metadata": {
            "tags": []
          }
        },
        {
          "output_type": "display_data",
          "data": {
            "text/html": [
              ""
            ],
            "text/plain": [
              "<IPython.core.display.HTML object>"
            ]
          },
          "metadata": {
            "tags": []
          }
        }
      ]
    },
    {
      "cell_type": "code",
      "metadata": {
        "id": "WcrrDK7-aT0v",
        "outputId": "262fd73e-2d63-4e7a-ffd9-b0d33d4a733d",
        "colab": {
          "base_uri": "https://localhost:8080/",
          "height": 34
        }
      },
      "source": [
        "# create language model learner with AWD_LSTM architecture and drop_mult of 0.5\n",
        "# lm_learner = ...\n",
        "lm_learner = language_model_learner(data_lm, arch=AWD_LSTM, drop_mult=.5)"
      ],
      "execution_count": null,
      "outputs": [
        {
          "output_type": "stream",
          "text": [
            "Downloading https://s3.amazonaws.com/fast-ai-modelzoo/wt103-fwd.tgz\n"
          ],
          "name": "stdout"
        },
        {
          "output_type": "display_data",
          "data": {
            "text/html": [
              ""
            ],
            "text/plain": [
              "<IPython.core.display.HTML object>"
            ]
          },
          "metadata": {
            "tags": []
          }
        }
      ]
    },
    {
      "cell_type": "code",
      "metadata": {
        "id": "uZdK7lvW3_5n"
      },
      "source": [
        ""
      ],
      "execution_count": null,
      "outputs": []
    },
    {
      "cell_type": "code",
      "metadata": {
        "id": "XnMFnhvZVM8k",
        "outputId": "f688c990-efc9-4b94-9c5e-b6c2958a9877",
        "colab": {
          "base_uri": "https://localhost:8080/",
          "height": 406
        }
      },
      "source": [
        "# find a learing rate\n",
        "lm_learner.lr_find()\n",
        "lm_learner.recorder.plot(suggestion=True)"
      ],
      "execution_count": null,
      "outputs": [
        {
          "output_type": "display_data",
          "data": {
            "text/html": [
              "\n",
              "    <div>\n",
              "        <style>\n",
              "            /* Turns off some styling */\n",
              "            progress {\n",
              "                /* gets rid of default border in Firefox and Opera. */\n",
              "                border: none;\n",
              "                /* Needs to be in here for Safari polyfill so background images work as expected. */\n",
              "                background-size: auto;\n",
              "            }\n",
              "            .progress-bar-interrupted, .progress-bar-interrupted::-webkit-progress-bar {\n",
              "                background: #F44336;\n",
              "            }\n",
              "        </style>\n",
              "      <progress value='0' class='' max='1' style='width:300px; height:20px; vertical-align: middle;'></progress>\n",
              "      0.00% [0/1 00:00<00:00]\n",
              "    </div>\n",
              "    \n",
              "<table border=\"1\" class=\"dataframe\">\n",
              "  <thead>\n",
              "    <tr style=\"text-align: left;\">\n",
              "      <th>epoch</th>\n",
              "      <th>train_loss</th>\n",
              "      <th>valid_loss</th>\n",
              "      <th>accuracy</th>\n",
              "      <th>time</th>\n",
              "    </tr>\n",
              "  </thead>\n",
              "  <tbody>\n",
              "  </tbody>\n",
              "</table><p>\n",
              "\n",
              "    <div>\n",
              "        <style>\n",
              "            /* Turns off some styling */\n",
              "            progress {\n",
              "                /* gets rid of default border in Firefox and Opera. */\n",
              "                border: none;\n",
              "                /* Needs to be in here for Safari polyfill so background images work as expected. */\n",
              "                background-size: auto;\n",
              "            }\n",
              "            .progress-bar-interrupted, .progress-bar-interrupted::-webkit-progress-bar {\n",
              "                background: #F44336;\n",
              "            }\n",
              "        </style>\n",
              "      <progress value='99' class='' max='1330' style='width:300px; height:20px; vertical-align: middle;'></progress>\n",
              "      7.44% [99/1330 00:18<03:46 11.3448]\n",
              "    </div>\n",
              "    "
            ],
            "text/plain": [
              "<IPython.core.display.HTML object>"
            ]
          },
          "metadata": {
            "tags": []
          }
        },
        {
          "output_type": "stream",
          "text": [
            "LR Finder is complete, type {learner_name}.recorder.plot() to see the graph.\n",
            "Min numerical gradient: 7.59E-07\n",
            "Min loss divided by 10: 4.79E-03\n"
          ],
          "name": "stdout"
        },
        {
          "output_type": "display_data",
          "data": {
            "image/png": "[encoded data removed]",
            "text/plain": [
              "<Figure size 432x288 with 1 Axes>"
            ]
          },
          "metadata": {
            "tags": [],
            "needs_background": "light"
          }
        }
      ]
    },
    {
      "cell_type": "code",
      "metadata": {
        "id": "B9DZ8FALAw7r",
        "outputId": "f7f6a147-c633-4b58-cd9a-18ee869d060a",
        "colab": {
          "base_uri": "https://localhost:8080/",
          "height": 106
        }
      },
      "source": [
        "# fit one cycle\n",
        "lr = lm_learner.recorder.min_grad_lr\n",
        "lm_learner.fit_one_cycle(2, lr)"
      ],
      "execution_count": null,
      "outputs": [
        {
          "output_type": "display_data",
          "data": {
            "text/html": [
              "<table border=\"1\" class=\"dataframe\">\n",
              "  <thead>\n",
              "    <tr style=\"text-align: left;\">\n",
              "      <th>epoch</th>\n",
              "      <th>train_loss</th>\n",
              "      <th>valid_loss</th>\n",
              "      <th>accuracy</th>\n",
              "      <th>time</th>\n",
              "    </tr>\n",
              "  </thead>\n",
              "  <tbody>\n",
              "    <tr>\n",
              "      <td>0</td>\n",
              "      <td>4.667805</td>\n",
              "      <td>4.477382</td>\n",
              "      <td>0.263375</td>\n",
              "      <td>04:24</td>\n",
              "    </tr>\n",
              "    <tr>\n",
              "      <td>1</td>\n",
              "      <td>4.707440</td>\n",
              "      <td>4.475968</td>\n",
              "      <td>0.263494</td>\n",
              "      <td>04:24</td>\n",
              "    </tr>\n",
              "  </tbody>\n",
              "</table>"
            ],
            "text/plain": [
              "<IPython.core.display.HTML object>"
            ]
          },
          "metadata": {
            "tags": []
          }
        }
      ]
    },
    {
      "cell_type": "code",
      "metadata": {
        "id": "3ZIbQuXSKS5V"
      },
      "source": [
        "# save the encoder\n",
        "# save the encoder\n",
        "lm_learner.save_encoder(\"model\")"
      ],
      "execution_count": null,
      "outputs": []
    },
    {
      "cell_type": "code",
      "metadata": {
        "id": "OFGrAyvQvXLH",
        "outputId": "8a0daa4a-a8dd-4728-fd86-b1527189822b",
        "colab": {
          "base_uri": "https://localhost:8080/",
          "height": 52
        }
      },
      "source": [
        "lm_learner.predict(\"this movie talks about Canadian\", n_words=20)"
      ],
      "execution_count": null,
      "outputs": [
        {
          "output_type": "execute_result",
          "data": {
            "application/vnd.google.colaboratory.intrinsic+json": {
              "type": "string"
            },
            "text/plain": [
              "'this movie talks about Canadian government agency with a long - running controversy over its controversial diplomatic aspects . The official Canadian media'"
            ]
          },
          "metadata": {
            "tags": []
          },
          "execution_count": 28
        }
      ]
    },
    {
      "cell_type": "code",
      "metadata": {
        "id": "ehtPdWiP7PpT",
        "outputId": "def9947b-9437-455c-c3b3-bde12244c24d",
        "colab": {
          "base_uri": "https://localhost:8080/",
          "height": 1000
        }
      },
      "source": [
        "clas_learner = text_classifier_learner(data_clas, arch=AWD_LSTM, drop_mult=0.5)\n",
        "clas_learner.load_encoder(\"model\")"
      ],
      "execution_count": null,
      "outputs": [
        {
          "output_type": "execute_result",
          "data": {
            "text/plain": [
              "RNNLearner(data=TextClasDataBunch;\n",
              "\n",
              "Train: LabelList (19999 items)\n",
              "x: TextList\n",
              "xxbos i am the parent of a special needs child and i enjoyed the the movie very much ! xxmaj it was loving , warm and fun . i learned a long time ago to see the humor in things . i especially thought it was sweet how all the other characters worried about xxmaj frankie and who would take care of him after his grandmother died . i attended a focus screening of the film with other parents and siblings of special needs children before the film was edited . xxmaj everyone enjoyed the film and it actually inspired wonderful discussions . xxmaj we talked about how our kids make us laugh and we also talked about how we worry about them . xxmaj the screenwriter talked about how she work with autistic children and other special needs children as a volunteer for several years . xxmaj she based the character on a real person . xxmaj our family is blessed with a sense of humor that has gotten us through some very stressful times . i give the movie two thumbs up ! ! !,xxbos \" i moved out here to get away from this kind of thing ! \" xxmaj the small town sheriff laments . \"this happens a lot in xxmaj chicago ? \" xxmaj his deputy asks . xxmaj well , no , not really . xxmaj the plot is that a group of xxmaj martians mistake a xxmaj halloween xxmaj rebroadcast of xxmaj orson xxmaj welles ' xxmaj war of the xxmaj worlds as an account of a real xxmaj martian invasion , and conclude they need to get in on the action ! xxmaj what follows are a bunch of mishaps involving the xxmaj martian 's haphazard attempts to conquer the town of \" xxmaj big xxmaj bean , xxup il \" . xxmaj everyone concludes they are kids in really good costumes , except for the xxmaj sheriff 's daughter and her friend , a kid in a duck suit . xxmaj the xxmaj martians themselves are comical , and you get the impression they are no threat to anyone but themselves pretty early on . xxmaj it 's a fun family movie .,xxbos xxup freddy has gone from scary to funny , in this 6th installment in the xxmaj nightmare series . xxmaj it 's been 2 years , well actually 11 since this film takes place in xxunk xxup freddy has killed every last kid on xxmaj elm street except one , xxmaj john xxunk from part xxunk doe the film gives on hint who he xxunk which he uses to bring more children to come to xxmaj elm street . xxmaj not only does xxup freddy gets his wishes , but he also gets his daughter back to xxmaj elm street . xxmaj when she finds out what is happening , she and other kids decide to kill xxup freddy once and for all . xxmaj we also get to see some of xxup freddy 's eerie backgrounds . xxmaj rachel xxmaj talalay , who has been xxunk to the nightmare series for a long time by now . xxmaj many people hate this film , but i liked it . xxmaj it tried to bring out what xxup freddy was doing with his xxunk ... xxup comdey and makes the series more funny than scary . xxmaj so this film is really a comdey sore to speak . xxmaj it is not the xxunk in the series , part 2 still holds it .,xxbos xxmaj since most review 's of this film are of screening 's seen decade 's ago i 'd like to add a more recent one , the film open 's with stock footage of xxup xxunk 's bombing xxmaj germany , the film cut 's to xxmaj oskar xxmaj werner 's xxmaj hauptmann ( captain ) xxmaj wust character and his aide running for cover while making their way to xxmaj hitler 's xxmaj fuehrer xxmaj bunker , once inside , they are xxunk by bunker staff personnel , the film then cut 's to one of many conference scene 's with xxmaj xxunk xxmaj skoda giving a decent impression of xxmaj adolf xxmaj hitler rallying his officer 's to \" xxmaj ultimate xxmaj victory \" while xxmaj werner 's character is shown as slowly coming to realize the bunker denizen 's are caught up in a fantasy world - some non - bunker event 's are depicted , most notable being the flooding of the subway system to prevent a xxmaj russian advance through them and a minor subplot involving a young member of the xxmaj flak unit 's and his family 's difficulty in surviving - this film suffer 's from a number of detail inaccuracies that a xxmaj german film made only 10 year 's after xxup ww2 should not have included ; the actor portraying xxmaj goebbels ( xxmaj willy xxmaj krause ) wear 's the same uniform as xxmaj hitler , including arm xxunk xxmaj goebbels wore a brown xxmaj nazi xxmaj party uniform with xxunk xxunk - the \" xxup ss \" soldier 's wear xxmaj german army camouflage , the well documented scene of xxmaj hitler awarding the iron cross to boy 's of the xxmaj hitler xxmaj youth is shown as having taken place xxup inside the bunker ( it was done outside in the courtyard ) and lastly , xxmaj hitler 's suicide weapon is clearly shown as a xxmaj belgian browning model xxunk account 's agree it was a xxmaj walther xxup xxunk - some bit 's of acting also seem wholly inaccurate with the drunken dance scene near the end of the film being notable , this bit is shown as a cabaret skit , with a intoxicated wounded soldier ( his arm in a splint ) maniacally goose - stepping to music while a nurse does a combination striptease / belly dance , all by candlelight ... this is actually embarrassing to watch - the most incredible bit is when xxmaj werner 's xxmaj captain xxmaj wust gain 's an audience alone with xxmaj skoda 's xxmaj hitler , xxmaj hitler is shown as slumped on a wall bench , drugged and delirious , when xxmaj werner 's character begin 's to question him , xxmaj hitler start 's screaming which bring 's in a xxup ss guard who mortally wound 's xxmaj werner 's character in the back with a gunshot - this fabricated scene is not based on any true historic account - xxmaj werner 's character is then hauled off to die in a xxunk while xxmaj hitler prepare 's his own ending , xxmaj hitler 's farewell to his staff is shown but the suicide is off - screen , the final second 's of the movie show xxmaj hitler 's funeral pyre smoke slowly forming into a ghostly image of the face of the dead xxmaj oskar xxmaj werner / xxmaj hauptmann xxmaj wust - this film is more allegorical than historical and anyone interested in this period would do better to check out more recent film 's such as the 1973 remake \" xxmaj hitler : the last 10 day 's \" or the xxmaj german film \" xxmaj downfall \" ( xxmaj der xxmaj untergang ) if they wish a more true accounting of this dramatic story , these last two film 's are based on first person eyewitness account 's , with \" xxmaj hitler : the last 10 day 's \" being compiled from xxmaj xxunk xxmaj xxunk 's autobiography as a staff officer in the xxmaj fuehrer xxmaj bunker and \" xxmaj downfall \" being done from xxmaj hitler 's secretary 's recollection 's , the screen play for \" xxmaj der xxmaj letzte xxmaj xxunk \" is taken from xxmaj american xxmaj nuremberg war crime 's trial judge xxmaj michael xxmaj xxunk 's book \" xxmaj ten day 's to die \" , which is more a compilation of event 's ( many obviously fanciful ) than eyewitness history - it is surprising that xxmaj hugh xxmaj trevor xxmaj roper 's xxunk last day 's of xxmaj hitler \" was never made into a film .,xxbos xxmaj in what could have been seen as a coup towards the sexual \" revolution \" ( purposefully i use quotations for that word ) , xxmaj jean xxmaj eustache wrote and directed xxmaj the xxmaj mother and the xxmaj whore as a poetic , damning critique of those who ca n't seem to get enough love . xxmaj if there is a message to this film- and i 'd hope that the message would come only after the fact of what else this xxmaj ben - xxmaj hur length feature has to xxunk it 's that in order to love , honestly , there has to be some level of happiness , of real truth . xxmaj is it possible to have two lovers ? xxmaj some can try , but what is the outcome if no one can really have what they really want , or feel they can even express to say what they want ? xxmaj what is the truth in the relationships that xxmaj alexandre ( xxmaj jean - xxmaj pierre xxmaj leaud ) has with the women around him ? xxmaj he 's a twenty - something pseudo - intellectual , not with any seeming job and he lives off of a woman , xxmaj marie ( xxmaj bernadette xxmaj lafont ) slightly older than him and is usually , if not always , his lover , his last possible love - of - his - life left him , and then right away he picks up a woman he sees on the street , xxmaj veronika ( xxmaj françoise xxmaj lebrun ) , who perhaps reminds him of her . xxmaj soon what unfolds is the most subtly torrid love triangle ever put on film , where the psychological strings are pulled with the cruelest words and the slightest of gestures . xxmaj at first we think it might be all about what will happen to xxmaj alexandre , but we 're mistaken . xxmaj the women are so essential to this question of love and sex that they have to be around , talking on and on , for something to sink in . xxmaj we're told that part of the sexual revolution , in theory if not entirely in practice ( perhaps it was , i ca n't say having not been alive in the period to see it first - hand ) , was that freedom led to a lack of inhibitions . xxmaj but xxmaj eustache 's point , if not entirely message , is that it 's practically impossible to have it both ways : you ca n't have people love you and expect to get the satisfaction of ultimate companionship that arrives with \" f***ing \" , as the characters refer over and over again . xxmaj the xxmaj mother and the xxmaj whore 's strengths as far as having the theme is expressing this dread beneath the promiscuity , the lack of monogamy , while also stimulating the intellect in the talkiest talk you 've ever seen in a movie . xxmaj at the same time we see a character like xxmaj alexandre , who probably loves to hear himself talk whether it 's about some movie he saw or something bad from his past , xxmaj eustache makes it so that the film itself is n't xxunk though it could appear to be- but that it 's about pretentiousness , what lies beneath those who are covering up for their internal flaws , what they need to use when they 're ultimately alone in the morning . xxmaj if you thought films like xxmaj before xxmaj sunrise / xxmaj sunset were talky relationship flicks , you have n't met this . xxmaj but as xxmaj eustache revels in the dialogs these characters have , sometimes trivial , or ' deep ' , or sexual , or frank , or occasionally extremely ( or in a subdued manner ) emotional , it 's never , ever uninteresting or boring . xxmaj on the contrary , for those who ca n't get enough of a * good * talky film , it 's exceptional . xxmaj while his style does n't call out to the xxunk that came with his forerunners in the nouvelle vague a dozen years beforehand , xxmaj eustache 's new - wave touch is with the characters , and then xxunk on them . xxmaj this is realism with a spike of attitude , with things at time scathing and sarcastic , crude and without shame in expression . xxmaj all three of the actors are so glued to their characters that we ca n't ever perceive them as ' faking ' an emotion or going at all into melodrama . xxmaj it 's almost xxup too good in naturalistic / realism terms , but for xxmaj eustache 's material there is no other way around it . xxmaj luckily xxmaj leaud delivers the crowning chip of his career of the period , and both ladies , particularly xxmaj xxunk as the \" whore \" xxmaj veronika ( a claim she staggeringly xxunk in the film 's climax of sorts in one unbroken shot ) . xxmaj and , as another touch , every so often , the director will dip into a quiet moment of thought , of a character sitting by themselves , listening to a record , and in contemplation or quiet agony . xxmaj this is probably the biggest influence on xxmaj jim xxmaj jarmusch , who dedicated his film xxmaj broken xxmaj flowers to xxmaj eustache and has one scene in particular that is lifted completely ( and lovingly ) in approach from the late xxmaj parisian . xxmaj sad to say , before i saw xxmaj broken xxmaj flowers , i never heard of xxmaj eustache or this film , and xxunk it has become quite a challenge ( not available on xxup us xxup dvd , and on xxup vhs so rare it took many months of tracking at various libraries ) . xxmaj not a minute of that time was wasted ; the xxmaj mother and the xxmaj whore is truly beautiful work , one of the best of xxmaj french relationship dramas , maybe even just one of the most staggeringly lucid i 've seen from the country in general . xxmaj it 's complex , it 's sweet , it 's cold , it 's absorbing , and it 's very long , perhaps too long . xxmaj it 's also satisfying on the kind of level that i 'd compare to xxmaj scenes from a xxmaj marriage ; true revelations about the human condition continue to arise 35 years after each film 's release .\n",
              "y: CategoryList\n",
              "positive,positive,positive,negative,positive\n",
              "Path: /content/drive/My Drive/DATA-475/imdb;\n",
              "\n",
              "Valid: LabelList (5001 items)\n",
              "x: TextList\n",
              "xxbos xxmaj surprisingly well made little movie . xxmaj short in length at about 90 minutes . xxmaj for a low budget movie , very well made . xxmaj plot is slow to unravel . xxmaj cast is excellent especially xxmaj elizabeth xxmaj van xxmaj meter as the girlfriend with xxmaj tourette 's xxmaj syndrome .,xxbos xxmaj this film lingered and lingered at a small movie theater in town , and the word - of - mouth buzz got me to see it . a comedy about disabled people - the subject matter keeps lots of people away from a funny and heart - warming film .,xxbos ' xxmaj midnight xxmaj cowboy ' was rated x with the original release back in 1969 . xxmaj there are some scenes where you can understand that , just a little . xxmaj the movie about xxmaj joe xxmaj buck ( xxmaj jon xxmaj voight ) coming from xxmaj texas to xxmaj new xxmaj york xxmaj city to become a hustler is sometimes a little disturbing . xxmaj dressed up as a cowboy he tries to live as a hustler , making money by the act of love . xxmaj it does not work out as he planned . xxmaj after a guy named xxmaj rico ' xxmaj ratso ' xxmaj rizzo ( xxmaj dustin xxmaj hoffman ) first pulled a trick on him and stole some money they become friends . xxmaj they live in an empty and very filthy apartment . xxmaj then xxmaj ratso gets sick and xxmaj joe has to try to make some money . xxmaj the movie was probably rated x for the main subject but on the way we see some strange things . xxmaj the editing in this movie is great . xxmaj we see dream sequences from xxmaj joe and xxmaj ratso interrupted by the real world in a nice and sometimes funny way . xxmaj dustin xxmaj hoffman , xxmaj jon xxmaj voight and the supporting actors give great performances . xxmaj especially xxmaj hoffman delivers some fine famous lines . xxmaj the score is done by xxmaj john xxmaj barry and sounds great . xxmaj all this makes this a great movie that won the xxmaj best xxmaj picture xxmaj oscar for a good reason .,xxbos xxmaj for anyone with a moderate sensibility , a moderate feeling of the human and humane condition , for anyone capable of getting above the xxmaj hollywood ilk , for anyone who is satisfied seeing cinema which does not have a series of xxmaj seagals / xxmaj willis / xxmaj van xxmaj xxunk blasting the brains out of anybody or seeing who gets into bed with whom , for anyone whose intellectual level reaches a capacity to grasp , sympathise with , comprehend , laugh xxup with , cry xxup with natural tender heart - warming hilarious compassionate xxup human xxup beings , ` xxmaj le xxmaj xxunk xxmaj jour ' is waiting for you . xxmaj jaco van xxmaj dormael has not achieved simply a masterpiece , that would have been too simplistic ; he has achieved one of those rare monumental works of art in the cinematographic world which defies any kind of xxunk . xxmaj is it a drama ? xxmaj is it a comedy ? xxmaj no : it is the story of xxmaj georges , a wonderful funny pitiful laughable loving frightened beautiful personality , a sufferer of the xxmaj xxunk xxmaj syndrome . xxmaj it is a story which has you laughing through your tears , but this is not one of those classic tear - jerkers ; this film moves through a world that has you at once mixing your feelings of compassion or pity or even shame with those of admiration , warmth and even love . a successful banking salesman , xxmaj harry , bumps into xxmaj georges : they were both going in opposite directions with absolutely opposing ideas , problems and priorities ; skillfully van xxmaj dormael melts these two unlikely men into a warm friendship , but which is so much more than the good buddy friendship of those having a beer down the road . xxmaj this is a relationship which develops into a profound needing by both for the other . xxmaj the xxunk - surrealist scenes fit in perfectly : xxmaj georges recalls ( or invents ) past scenes of his life while either day - dreaming or sleeping ; even the almost phantasmagorical final scene is totally correct . xxmaj the only scene which might be considered a little out of place is when they steal a bus and drive it out of the show - rooms . xxmaj however , this does not detract from the whole . xxmaj this film is a monument . xxmaj even if your xxmaj french is not up to much , please bear seeing it with sub - titles . ` xxmaj le xxmaj xxunk xxmaj jour ' is worth the trouble . xxmaj as for anything else , well , just read the following commentaries  i go along with all of them . xxmaj this film is a joy , it is majestic , it is unique . xxmaj if you have seen ` xxmaj rain xxmaj man ' which i consider an excellent film , you must see this one : it is far superior because it has not the superficial veneer of famous xxmaj hollywood - produced world - renowned actors ; it has xxmaj pascal xxmaj duquenne and xxmaj daniel xxmaj auteuil  xxup ten oscars for these two , and three more for xxmaj jaco van xxmaj dormael . xxmaj who cares xxunk ? xxmaj yes : 11 out of 10 if the imdb rating does n't break down under the strain . xxmaj xxunk ! xxmaj xxunk !,xxbos i always wondered what happened with that magic kind of feeling the old xxmaj slovenian movies seemed to have in them ... xxmaj well , in time i wondered if that feeling was just the nostalgia . xxmaj or did that \" feeling \" decide to pack its bags and say \" goodbye \" somewhere in the middle of our cinematic history , and then never came back ? xxmaj or did it ? xxmaj because for me , it came back the first time i saw \" xxmaj ekspres , xxmaj ekspres \" . xxmaj and it was it 's old self again . xxmaj there are three qualities of this movie that makes it somewhat unique and as enjoying as it is to watch - the smooth flow of the story , the warmth of the colors and , what i appreciated the most - the lack of excessive use of verbal communication ( something many of other ( not just ) xxmaj slovenian screenwriters should at least consider ) . xxmaj there is no use for words , when you can understand each other just as well ( yeah , or better ) by other means in use . xxmaj just watch xxmaj bakovic and xxmaj xxunk . xxmaj uh . xxmaj so this , in only so many words , is why i would recommend \" xxmaj ekspres , xxmaj ekspres \" to all of you , as a must - see xxmaj slovenian movie , regardless of what you may heard of xxmaj slovenian films ( if you ever even heard anything , that is ... xxunk , and that scene , where xxmaj bakovic is dancing to xxmaj vivaldi 's music ... a treat . xxmaj treat yourself . xxmaj watch it .\n",
              "y: CategoryList\n",
              "positive,positive,positive,positive,positive\n",
              "Path: /content/drive/My Drive/DATA-475/imdb;\n",
              "\n",
              "Test: None, model=SequentialRNN(\n",
              "  (0): MultiBatchEncoder(\n",
              "    (module): AWD_LSTM(\n",
              "      (encoder): Embedding(44016, 400, padding_idx=1)\n",
              "      (encoder_dp): EmbeddingDropout(\n",
              "        (emb): Embedding(44016, 400, padding_idx=1)\n",
              "      )\n",
              "      (rnns): ModuleList(\n",
              "        (0): WeightDropout(\n",
              "          (module): LSTM(400, 1152, batch_first=True)\n",
              "        )\n",
              "        (1): WeightDropout(\n",
              "          (module): LSTM(1152, 1152, batch_first=True)\n",
              "        )\n",
              "        (2): WeightDropout(\n",
              "          (module): LSTM(1152, 400, batch_first=True)\n",
              "        )\n",
              "      )\n",
              "      (input_dp): RNNDropout()\n",
              "      (hidden_dps): ModuleList(\n",
              "        (0): RNNDropout()\n",
              "        (1): RNNDropout()\n",
              "        (2): RNNDropout()\n",
              "      )\n",
              "    )\n",
              "  )\n",
              "  (1): PoolingLinearClassifier(\n",
              "    (layers): Sequential(\n",
              "      (0): BatchNorm1d(1200, eps=1e-05, momentum=0.1, affine=True, track_running_stats=True)\n",
              "      (1): Dropout(p=0.2, inplace=False)\n",
              "      (2): Linear(in_features=1200, out_features=50, bias=True)\n",
              "      (3): ReLU(inplace=True)\n",
              "      (4): BatchNorm1d(50, eps=1e-05, momentum=0.1, affine=True, track_running_stats=True)\n",
              "      (5): Dropout(p=0.1, inplace=False)\n",
              "      (6): Linear(in_features=50, out_features=2, bias=True)\n",
              "    )\n",
              "  )\n",
              "), opt_func=functools.partial(<class 'torch.optim.adam.Adam'>, betas=(0.9, 0.99)), loss_func=FlattenedLoss of CrossEntropyLoss(), metrics=[<function accuracy at 0x7faa2bf5e488>], true_wd=True, bn_wd=True, wd=0.01, train_bn=True, path=PosixPath('/content/drive/My Drive/DATA-475/imdb'), model_dir='models', callback_fns=[functools.partial(<class 'fastai.basic_train.Recorder'>, add_time=True, silent=False)], callbacks=[RNNTrainer\n",
              "learn: RNNLearner(data=TextClasDataBunch;\n",
              "\n",
              "Train: LabelList (19999 items)\n",
              "x: TextList\n",
              "xxbos i am the parent of a special needs child and i enjoyed the the movie very much ! xxmaj it was loving , warm and fun . i learned a long time ago to see the humor in things . i especially thought it was sweet how all the other characters worried about xxmaj frankie and who would take care of him after his grandmother died . i attended a focus screening of the film with other parents and siblings of special needs children before the film was edited . xxmaj everyone enjoyed the film and it actually inspired wonderful discussions . xxmaj we talked about how our kids make us laugh and we also talked about how we worry about them . xxmaj the screenwriter talked about how she work with autistic children and other special needs children as a volunteer for several years . xxmaj she based the character on a real person . xxmaj our family is blessed with a sense of humor that has gotten us through some very stressful times . i give the movie two thumbs up ! ! !,xxbos \" i moved out here to get away from this kind of thing ! \" xxmaj the small town sheriff laments . \"this happens a lot in xxmaj chicago ? \" xxmaj his deputy asks . xxmaj well , no , not really . xxmaj the plot is that a group of xxmaj martians mistake a xxmaj halloween xxmaj rebroadcast of xxmaj orson xxmaj welles ' xxmaj war of the xxmaj worlds as an account of a real xxmaj martian invasion , and conclude they need to get in on the action ! xxmaj what follows are a bunch of mishaps involving the xxmaj martian 's haphazard attempts to conquer the town of \" xxmaj big xxmaj bean , xxup il \" . xxmaj everyone concludes they are kids in really good costumes , except for the xxmaj sheriff 's daughter and her friend , a kid in a duck suit . xxmaj the xxmaj martians themselves are comical , and you get the impression they are no threat to anyone but themselves pretty early on . xxmaj it 's a fun family movie .,xxbos xxup freddy has gone from scary to funny , in this 6th installment in the xxmaj nightmare series . xxmaj it 's been 2 years , well actually 11 since this film takes place in xxunk xxup freddy has killed every last kid on xxmaj elm street except one , xxmaj john xxunk from part xxunk doe the film gives on hint who he xxunk which he uses to bring more children to come to xxmaj elm street . xxmaj not only does xxup freddy gets his wishes , but he also gets his daughter back to xxmaj elm street . xxmaj when she finds out what is happening , she and other kids decide to kill xxup freddy once and for all . xxmaj we also get to see some of xxup freddy 's eerie backgrounds . xxmaj rachel xxmaj talalay , who has been xxunk to the nightmare series for a long time by now . xxmaj many people hate this film , but i liked it . xxmaj it tried to bring out what xxup freddy was doing with his xxunk ... xxup comdey and makes the series more funny than scary . xxmaj so this film is really a comdey sore to speak . xxmaj it is not the xxunk in the series , part 2 still holds it .,xxbos xxmaj since most review 's of this film are of screening 's seen decade 's ago i 'd like to add a more recent one , the film open 's with stock footage of xxup xxunk 's bombing xxmaj germany , the film cut 's to xxmaj oskar xxmaj werner 's xxmaj hauptmann ( captain ) xxmaj wust character and his aide running for cover while making their way to xxmaj hitler 's xxmaj fuehrer xxmaj bunker , once inside , they are xxunk by bunker staff personnel , the film then cut 's to one of many conference scene 's with xxmaj xxunk xxmaj skoda giving a decent impression of xxmaj adolf xxmaj hitler rallying his officer 's to \" xxmaj ultimate xxmaj victory \" while xxmaj werner 's character is shown as slowly coming to realize the bunker denizen 's are caught up in a fantasy world - some non - bunker event 's are depicted , most notable being the flooding of the subway system to prevent a xxmaj russian advance through them and a minor subplot involving a young member of the xxmaj flak unit 's and his family 's difficulty in surviving - this film suffer 's from a number of detail inaccuracies that a xxmaj german film made only 10 year 's after xxup ww2 should not have included ; the actor portraying xxmaj goebbels ( xxmaj willy xxmaj krause ) wear 's the same uniform as xxmaj hitler , including arm xxunk xxmaj goebbels wore a brown xxmaj nazi xxmaj party uniform with xxunk xxunk - the \" xxup ss \" soldier 's wear xxmaj german army camouflage , the well documented scene of xxmaj hitler awarding the iron cross to boy 's of the xxmaj hitler xxmaj youth is shown as having taken place xxup inside the bunker ( it was done outside in the courtyard ) and lastly , xxmaj hitler 's suicide weapon is clearly shown as a xxmaj belgian browning model xxunk account 's agree it was a xxmaj walther xxup xxunk - some bit 's of acting also seem wholly inaccurate with the drunken dance scene near the end of the film being notable , this bit is shown as a cabaret skit , with a intoxicated wounded soldier ( his arm in a splint ) maniacally goose - stepping to music while a nurse does a combination striptease / belly dance , all by candlelight ... this is actually embarrassing to watch - the most incredible bit is when xxmaj werner 's xxmaj captain xxmaj wust gain 's an audience alone with xxmaj skoda 's xxmaj hitler , xxmaj hitler is shown as slumped on a wall bench , drugged and delirious , when xxmaj werner 's character begin 's to question him , xxmaj hitler start 's screaming which bring 's in a xxup ss guard who mortally wound 's xxmaj werner 's character in the back with a gunshot - this fabricated scene is not based on any true historic account - xxmaj werner 's character is then hauled off to die in a xxunk while xxmaj hitler prepare 's his own ending , xxmaj hitler 's farewell to his staff is shown but the suicide is off - screen , the final second 's of the movie show xxmaj hitler 's funeral pyre smoke slowly forming into a ghostly image of the face of the dead xxmaj oskar xxmaj werner / xxmaj hauptmann xxmaj wust - this film is more allegorical than historical and anyone interested in this period would do better to check out more recent film 's such as the 1973 remake \" xxmaj hitler : the last 10 day 's \" or the xxmaj german film \" xxmaj downfall \" ( xxmaj der xxmaj untergang ) if they wish a more true accounting of this dramatic story , these last two film 's are based on first person eyewitness account 's , with \" xxmaj hitler : the last 10 day 's \" being compiled from xxmaj xxunk xxmaj xxunk 's autobiography as a staff officer in the xxmaj fuehrer xxmaj bunker and \" xxmaj downfall \" being done from xxmaj hitler 's secretary 's recollection 's , the screen play for \" xxmaj der xxmaj letzte xxmaj xxunk \" is taken from xxmaj american xxmaj nuremberg war crime 's trial judge xxmaj michael xxmaj xxunk 's book \" xxmaj ten day 's to die \" , which is more a compilation of event 's ( many obviously fanciful ) than eyewitness history - it is surprising that xxmaj hugh xxmaj trevor xxmaj roper 's xxunk last day 's of xxmaj hitler \" was never made into a film .,xxbos xxmaj in what could have been seen as a coup towards the sexual \" revolution \" ( purposefully i use quotations for that word ) , xxmaj jean xxmaj eustache wrote and directed xxmaj the xxmaj mother and the xxmaj whore as a poetic , damning critique of those who ca n't seem to get enough love . xxmaj if there is a message to this film- and i 'd hope that the message would come only after the fact of what else this xxmaj ben - xxmaj hur length feature has to xxunk it 's that in order to love , honestly , there has to be some level of happiness , of real truth . xxmaj is it possible to have two lovers ? xxmaj some can try , but what is the outcome if no one can really have what they really want , or feel they can even express to say what they want ? xxmaj what is the truth in the relationships that xxmaj alexandre ( xxmaj jean - xxmaj pierre xxmaj leaud ) has with the women around him ? xxmaj he 's a twenty - something pseudo - intellectual , not with any seeming job and he lives off of a woman , xxmaj marie ( xxmaj bernadette xxmaj lafont ) slightly older than him and is usually , if not always , his lover , his last possible love - of - his - life left him , and then right away he picks up a woman he sees on the street , xxmaj veronika ( xxmaj françoise xxmaj lebrun ) , who perhaps reminds him of her . xxmaj soon what unfolds is the most subtly torrid love triangle ever put on film , where the psychological strings are pulled with the cruelest words and the slightest of gestures . xxmaj at first we think it might be all about what will happen to xxmaj alexandre , but we 're mistaken . xxmaj the women are so essential to this question of love and sex that they have to be around , talking on and on , for something to sink in . xxmaj we're told that part of the sexual revolution , in theory if not entirely in practice ( perhaps it was , i ca n't say having not been alive in the period to see it first - hand ) , was that freedom led to a lack of inhibitions . xxmaj but xxmaj eustache 's point , if not entirely message , is that it 's practically impossible to have it both ways : you ca n't have people love you and expect to get the satisfaction of ultimate companionship that arrives with \" f***ing \" , as the characters refer over and over again . xxmaj the xxmaj mother and the xxmaj whore 's strengths as far as having the theme is expressing this dread beneath the promiscuity , the lack of monogamy , while also stimulating the intellect in the talkiest talk you 've ever seen in a movie . xxmaj at the same time we see a character like xxmaj alexandre , who probably loves to hear himself talk whether it 's about some movie he saw or something bad from his past , xxmaj eustache makes it so that the film itself is n't xxunk though it could appear to be- but that it 's about pretentiousness , what lies beneath those who are covering up for their internal flaws , what they need to use when they 're ultimately alone in the morning . xxmaj if you thought films like xxmaj before xxmaj sunrise / xxmaj sunset were talky relationship flicks , you have n't met this . xxmaj but as xxmaj eustache revels in the dialogs these characters have , sometimes trivial , or ' deep ' , or sexual , or frank , or occasionally extremely ( or in a subdued manner ) emotional , it 's never , ever uninteresting or boring . xxmaj on the contrary , for those who ca n't get enough of a * good * talky film , it 's exceptional . xxmaj while his style does n't call out to the xxunk that came with his forerunners in the nouvelle vague a dozen years beforehand , xxmaj eustache 's new - wave touch is with the characters , and then xxunk on them . xxmaj this is realism with a spike of attitude , with things at time scathing and sarcastic , crude and without shame in expression . xxmaj all three of the actors are so glued to their characters that we ca n't ever perceive them as ' faking ' an emotion or going at all into melodrama . xxmaj it 's almost xxup too good in naturalistic / realism terms , but for xxmaj eustache 's material there is no other way around it . xxmaj luckily xxmaj leaud delivers the crowning chip of his career of the period , and both ladies , particularly xxmaj xxunk as the \" whore \" xxmaj veronika ( a claim she staggeringly xxunk in the film 's climax of sorts in one unbroken shot ) . xxmaj and , as another touch , every so often , the director will dip into a quiet moment of thought , of a character sitting by themselves , listening to a record , and in contemplation or quiet agony . xxmaj this is probably the biggest influence on xxmaj jim xxmaj jarmusch , who dedicated his film xxmaj broken xxmaj flowers to xxmaj eustache and has one scene in particular that is lifted completely ( and lovingly ) in approach from the late xxmaj parisian . xxmaj sad to say , before i saw xxmaj broken xxmaj flowers , i never heard of xxmaj eustache or this film , and xxunk it has become quite a challenge ( not available on xxup us xxup dvd , and on xxup vhs so rare it took many months of tracking at various libraries ) . xxmaj not a minute of that time was wasted ; the xxmaj mother and the xxmaj whore is truly beautiful work , one of the best of xxmaj french relationship dramas , maybe even just one of the most staggeringly lucid i 've seen from the country in general . xxmaj it 's complex , it 's sweet , it 's cold , it 's absorbing , and it 's very long , perhaps too long . xxmaj it 's also satisfying on the kind of level that i 'd compare to xxmaj scenes from a xxmaj marriage ; true revelations about the human condition continue to arise 35 years after each film 's release .\n",
              "y: CategoryList\n",
              "positive,positive,positive,negative,positive\n",
              "Path: /content/drive/My Drive/DATA-475/imdb;\n",
              "\n",
              "Valid: LabelList (5001 items)\n",
              "x: TextList\n",
              "xxbos xxmaj surprisingly well made little movie . xxmaj short in length at about 90 minutes . xxmaj for a low budget movie , very well made . xxmaj plot is slow to unravel . xxmaj cast is excellent especially xxmaj elizabeth xxmaj van xxmaj meter as the girlfriend with xxmaj tourette 's xxmaj syndrome .,xxbos xxmaj this film lingered and lingered at a small movie theater in town , and the word - of - mouth buzz got me to see it . a comedy about disabled people - the subject matter keeps lots of people away from a funny and heart - warming film .,xxbos ' xxmaj midnight xxmaj cowboy ' was rated x with the original release back in 1969 . xxmaj there are some scenes where you can understand that , just a little . xxmaj the movie about xxmaj joe xxmaj buck ( xxmaj jon xxmaj voight ) coming from xxmaj texas to xxmaj new xxmaj york xxmaj city to become a hustler is sometimes a little disturbing . xxmaj dressed up as a cowboy he tries to live as a hustler , making money by the act of love . xxmaj it does not work out as he planned . xxmaj after a guy named xxmaj rico ' xxmaj ratso ' xxmaj rizzo ( xxmaj dustin xxmaj hoffman ) first pulled a trick on him and stole some money they become friends . xxmaj they live in an empty and very filthy apartment . xxmaj then xxmaj ratso gets sick and xxmaj joe has to try to make some money . xxmaj the movie was probably rated x for the main subject but on the way we see some strange things . xxmaj the editing in this movie is great . xxmaj we see dream sequences from xxmaj joe and xxmaj ratso interrupted by the real world in a nice and sometimes funny way . xxmaj dustin xxmaj hoffman , xxmaj jon xxmaj voight and the supporting actors give great performances . xxmaj especially xxmaj hoffman delivers some fine famous lines . xxmaj the score is done by xxmaj john xxmaj barry and sounds great . xxmaj all this makes this a great movie that won the xxmaj best xxmaj picture xxmaj oscar for a good reason .,xxbos xxmaj for anyone with a moderate sensibility , a moderate feeling of the human and humane condition , for anyone capable of getting above the xxmaj hollywood ilk , for anyone who is satisfied seeing cinema which does not have a series of xxmaj seagals / xxmaj willis / xxmaj van xxmaj xxunk blasting the brains out of anybody or seeing who gets into bed with whom , for anyone whose intellectual level reaches a capacity to grasp , sympathise with , comprehend , laugh xxup with , cry xxup with natural tender heart - warming hilarious compassionate xxup human xxup beings , ` xxmaj le xxmaj xxunk xxmaj jour ' is waiting for you . xxmaj jaco van xxmaj dormael has not achieved simply a masterpiece , that would have been too simplistic ; he has achieved one of those rare monumental works of art in the cinematographic world which defies any kind of xxunk . xxmaj is it a drama ? xxmaj is it a comedy ? xxmaj no : it is the story of xxmaj georges , a wonderful funny pitiful laughable loving frightened beautiful personality , a sufferer of the xxmaj xxunk xxmaj syndrome . xxmaj it is a story which has you laughing through your tears , but this is not one of those classic tear - jerkers ; this film moves through a world that has you at once mixing your feelings of compassion or pity or even shame with those of admiration , warmth and even love . a successful banking salesman , xxmaj harry , bumps into xxmaj georges : they were both going in opposite directions with absolutely opposing ideas , problems and priorities ; skillfully van xxmaj dormael melts these two unlikely men into a warm friendship , but which is so much more than the good buddy friendship of those having a beer down the road . xxmaj this is a relationship which develops into a profound needing by both for the other . xxmaj the xxunk - surrealist scenes fit in perfectly : xxmaj georges recalls ( or invents ) past scenes of his life while either day - dreaming or sleeping ; even the almost phantasmagorical final scene is totally correct . xxmaj the only scene which might be considered a little out of place is when they steal a bus and drive it out of the show - rooms . xxmaj however , this does not detract from the whole . xxmaj this film is a monument . xxmaj even if your xxmaj french is not up to much , please bear seeing it with sub - titles . ` xxmaj le xxmaj xxunk xxmaj jour ' is worth the trouble . xxmaj as for anything else , well , just read the following commentaries  i go along with all of them . xxmaj this film is a joy , it is majestic , it is unique . xxmaj if you have seen ` xxmaj rain xxmaj man ' which i consider an excellent film , you must see this one : it is far superior because it has not the superficial veneer of famous xxmaj hollywood - produced world - renowned actors ; it has xxmaj pascal xxmaj duquenne and xxmaj daniel xxmaj auteuil  xxup ten oscars for these two , and three more for xxmaj jaco van xxmaj dormael . xxmaj who cares xxunk ? xxmaj yes : 11 out of 10 if the imdb rating does n't break down under the strain . xxmaj xxunk ! xxmaj xxunk !,xxbos i always wondered what happened with that magic kind of feeling the old xxmaj slovenian movies seemed to have in them ... xxmaj well , in time i wondered if that feeling was just the nostalgia . xxmaj or did that \" feeling \" decide to pack its bags and say \" goodbye \" somewhere in the middle of our cinematic history , and then never came back ? xxmaj or did it ? xxmaj because for me , it came back the first time i saw \" xxmaj ekspres , xxmaj ekspres \" . xxmaj and it was it 's old self again . xxmaj there are three qualities of this movie that makes it somewhat unique and as enjoying as it is to watch - the smooth flow of the story , the warmth of the colors and , what i appreciated the most - the lack of excessive use of verbal communication ( something many of other ( not just ) xxmaj slovenian screenwriters should at least consider ) . xxmaj there is no use for words , when you can understand each other just as well ( yeah , or better ) by other means in use . xxmaj just watch xxmaj bakovic and xxmaj xxunk . xxmaj uh . xxmaj so this , in only so many words , is why i would recommend \" xxmaj ekspres , xxmaj ekspres \" to all of you , as a must - see xxmaj slovenian movie , regardless of what you may heard of xxmaj slovenian films ( if you ever even heard anything , that is ... xxunk , and that scene , where xxmaj bakovic is dancing to xxmaj vivaldi 's music ... a treat . xxmaj treat yourself . xxmaj watch it .\n",
              "y: CategoryList\n",
              "positive,positive,positive,positive,positive\n",
              "Path: /content/drive/My Drive/DATA-475/imdb;\n",
              "\n",
              "Test: None, model=SequentialRNN(\n",
              "  (0): MultiBatchEncoder(\n",
              "    (module): AWD_LSTM(\n",
              "      (encoder): Embedding(44016, 400, padding_idx=1)\n",
              "      (encoder_dp): EmbeddingDropout(\n",
              "        (emb): Embedding(44016, 400, padding_idx=1)\n",
              "      )\n",
              "      (rnns): ModuleList(\n",
              "        (0): WeightDropout(\n",
              "          (module): LSTM(400, 1152, batch_first=True)\n",
              "        )\n",
              "        (1): WeightDropout(\n",
              "          (module): LSTM(1152, 1152, batch_first=True)\n",
              "        )\n",
              "        (2): WeightDropout(\n",
              "          (module): LSTM(1152, 400, batch_first=True)\n",
              "        )\n",
              "      )\n",
              "      (input_dp): RNNDropout()\n",
              "      (hidden_dps): ModuleList(\n",
              "        (0): RNNDropout()\n",
              "        (1): RNNDropout()\n",
              "        (2): RNNDropout()\n",
              "      )\n",
              "    )\n",
              "  )\n",
              "  (1): PoolingLinearClassifier(\n",
              "    (layers): Sequential(\n",
              "      (0): BatchNorm1d(1200, eps=1e-05, momentum=0.1, affine=True, track_running_stats=True)\n",
              "      (1): Dropout(p=0.2, inplace=False)\n",
              "      (2): Linear(in_features=1200, out_features=50, bias=True)\n",
              "      (3): ReLU(inplace=True)\n",
              "      (4): BatchNorm1d(50, eps=1e-05, momentum=0.1, affine=True, track_running_stats=True)\n",
              "      (5): Dropout(p=0.1, inplace=False)\n",
              "      (6): Linear(in_features=50, out_features=2, bias=True)\n",
              "    )\n",
              "  )\n",
              "), opt_func=functools.partial(<class 'torch.optim.adam.Adam'>, betas=(0.9, 0.99)), loss_func=FlattenedLoss of CrossEntropyLoss(), metrics=[<function accuracy at 0x7faa2bf5e488>], true_wd=True, bn_wd=True, wd=0.01, train_bn=True, path=PosixPath('/content/drive/My Drive/DATA-475/imdb'), model_dir='models', callback_fns=[functools.partial(<class 'fastai.basic_train.Recorder'>, add_time=True, silent=False)], callbacks=[...], layer_groups=[Sequential(\n",
              "  (0): Embedding(44016, 400, padding_idx=1)\n",
              "  (1): EmbeddingDropout(\n",
              "    (emb): Embedding(44016, 400, padding_idx=1)\n",
              "  )\n",
              "), Sequential(\n",
              "  (0): WeightDropout(\n",
              "    (module): LSTM(400, 1152, batch_first=True)\n",
              "  )\n",
              "  (1): RNNDropout()\n",
              "), Sequential(\n",
              "  (0): WeightDropout(\n",
              "    (module): LSTM(1152, 1152, batch_first=True)\n",
              "  )\n",
              "  (1): RNNDropout()\n",
              "), Sequential(\n",
              "  (0): WeightDropout(\n",
              "    (module): LSTM(1152, 400, batch_first=True)\n",
              "  )\n",
              "  (1): RNNDropout()\n",
              "), Sequential(\n",
              "  (0): PoolingLinearClassifier(\n",
              "    (layers): Sequential(\n",
              "      (0): BatchNorm1d(1200, eps=1e-05, momentum=0.1, affine=True, track_running_stats=True)\n",
              "      (1): Dropout(p=0.2, inplace=False)\n",
              "      (2): Linear(in_features=1200, out_features=50, bias=True)\n",
              "      (3): ReLU(inplace=True)\n",
              "      (4): BatchNorm1d(50, eps=1e-05, momentum=0.1, affine=True, track_running_stats=True)\n",
              "      (5): Dropout(p=0.1, inplace=False)\n",
              "      (6): Linear(in_features=50, out_features=2, bias=True)\n",
              "    )\n",
              "  )\n",
              ")], add_time=True, silent=False)\n",
              "alpha: 2.0\n",
              "beta: 1.0], layer_groups=[Sequential(\n",
              "  (0): Embedding(44016, 400, padding_idx=1)\n",
              "  (1): EmbeddingDropout(\n",
              "    (emb): Embedding(44016, 400, padding_idx=1)\n",
              "  )\n",
              "), Sequential(\n",
              "  (0): WeightDropout(\n",
              "    (module): LSTM(400, 1152, batch_first=True)\n",
              "  )\n",
              "  (1): RNNDropout()\n",
              "), Sequential(\n",
              "  (0): WeightDropout(\n",
              "    (module): LSTM(1152, 1152, batch_first=True)\n",
              "  )\n",
              "  (1): RNNDropout()\n",
              "), Sequential(\n",
              "  (0): WeightDropout(\n",
              "    (module): LSTM(1152, 400, batch_first=True)\n",
              "  )\n",
              "  (1): RNNDropout()\n",
              "), Sequential(\n",
              "  (0): PoolingLinearClassifier(\n",
              "    (layers): Sequential(\n",
              "      (0): BatchNorm1d(1200, eps=1e-05, momentum=0.1, affine=True, track_running_stats=True)\n",
              "      (1): Dropout(p=0.2, inplace=False)\n",
              "      (2): Linear(in_features=1200, out_features=50, bias=True)\n",
              "      (3): ReLU(inplace=True)\n",
              "      (4): BatchNorm1d(50, eps=1e-05, momentum=0.1, affine=True, track_running_stats=True)\n",
              "      (5): Dropout(p=0.1, inplace=False)\n",
              "      (6): Linear(in_features=50, out_features=2, bias=True)\n",
              "    )\n",
              "  )\n",
              ")], add_time=True, silent=False)"
            ]
          },
          "metadata": {
            "tags": []
          },
          "execution_count": 30
        }
      ]
    },
    {
      "cell_type": "code",
      "metadata": {
        "id": "mLL6cVkhOmT4",
        "outputId": "3d8dfae2-5f8d-4c1e-96c8-00fd823dbd18",
        "colab": {
          "base_uri": "https://localhost:8080/",
          "height": 406
        }
      },
      "source": [
        "# tune the text_classifier_learner to accpetable accuracy (>80%)\n",
        "clas_learner.lr_find()\n",
        "clas_learner.recorder.plot(suggestion=True)"
      ],
      "execution_count": null,
      "outputs": [
        {
          "output_type": "display_data",
          "data": {
            "text/html": [
              "\n",
              "    <div>\n",
              "        <style>\n",
              "            /* Turns off some styling */\n",
              "            progress {\n",
              "                /* gets rid of default border in Firefox and Opera. */\n",
              "                border: none;\n",
              "                /* Needs to be in here for Safari polyfill so background images work as expected. */\n",
              "                background-size: auto;\n",
              "            }\n",
              "            .progress-bar-interrupted, .progress-bar-interrupted::-webkit-progress-bar {\n",
              "                background: #F44336;\n",
              "            }\n",
              "        </style>\n",
              "      <progress value='0' class='' max='1' style='width:300px; height:20px; vertical-align: middle;'></progress>\n",
              "      0.00% [0/1 00:00<00:00]\n",
              "    </div>\n",
              "    \n",
              "<table border=\"1\" class=\"dataframe\">\n",
              "  <thead>\n",
              "    <tr style=\"text-align: left;\">\n",
              "      <th>epoch</th>\n",
              "      <th>train_loss</th>\n",
              "      <th>valid_loss</th>\n",
              "      <th>accuracy</th>\n",
              "      <th>time</th>\n",
              "    </tr>\n",
              "  </thead>\n",
              "  <tbody>\n",
              "  </tbody>\n",
              "</table><p>\n",
              "\n",
              "    <div>\n",
              "        <style>\n",
              "            /* Turns off some styling */\n",
              "            progress {\n",
              "                /* gets rid of default border in Firefox and Opera. */\n",
              "                border: none;\n",
              "                /* Needs to be in here for Safari polyfill so background images work as expected. */\n",
              "                background-size: auto;\n",
              "            }\n",
              "            .progress-bar-interrupted, .progress-bar-interrupted::-webkit-progress-bar {\n",
              "                background: #F44336;\n",
              "            }\n",
              "        </style>\n",
              "      <progress value='94' class='' max='624' style='width:300px; height:20px; vertical-align: middle;'></progress>\n",
              "      15.06% [94/624 00:15<01:28 2.2351]\n",
              "    </div>\n",
              "    "
            ],
            "text/plain": [
              "<IPython.core.display.HTML object>"
            ]
          },
          "metadata": {
            "tags": []
          }
        },
        {
          "output_type": "stream",
          "text": [
            "LR Finder is complete, type {learner_name}.recorder.plot() to see the graph.\n",
            "Min numerical gradient: 1.74E-03\n",
            "Min loss divided by 10: 2.51E-02\n"
          ],
          "name": "stdout"
        },
        {
          "output_type": "display_data",
          "data": {
            "image/png": "[encoded data removed]",
            "text/plain": [
              "<Figure size 432x288 with 1 Axes>"
            ]
          },
          "metadata": {
            "tags": [],
            "needs_background": "light"
          }
        }
      ]
    },
    {
      "cell_type": "code",
      "metadata": {
        "id": "2Ypcafg-50ct",
        "outputId": "2b2b755e-e19c-44a1-f2f4-984d24f167c1",
        "colab": {
          "base_uri": "https://localhost:8080/",
          "height": 166
        }
      },
      "source": [
        "lr = clas_learner.recorder.min_grad_lr\n",
        "clas_learner.fit_one_cycle(4, lr)"
      ],
      "execution_count": null,
      "outputs": [
        {
          "output_type": "display_data",
          "data": {
            "text/html": [
              "<table border=\"1\" class=\"dataframe\">\n",
              "  <thead>\n",
              "    <tr style=\"text-align: left;\">\n",
              "      <th>epoch</th>\n",
              "      <th>train_loss</th>\n",
              "      <th>valid_loss</th>\n",
              "      <th>accuracy</th>\n",
              "      <th>time</th>\n",
              "    </tr>\n",
              "  </thead>\n",
              "  <tbody>\n",
              "    <tr>\n",
              "      <td>0</td>\n",
              "      <td>0.482679</td>\n",
              "      <td>0.405969</td>\n",
              "      <td>0.811638</td>\n",
              "      <td>01:45</td>\n",
              "    </tr>\n",
              "    <tr>\n",
              "      <td>1</td>\n",
              "      <td>0.462334</td>\n",
              "      <td>0.394338</td>\n",
              "      <td>0.821236</td>\n",
              "      <td>01:59</td>\n",
              "    </tr>\n",
              "    <tr>\n",
              "      <td>2</td>\n",
              "      <td>0.453742</td>\n",
              "      <td>0.373236</td>\n",
              "      <td>0.834633</td>\n",
              "      <td>01:39</td>\n",
              "    </tr>\n",
              "    <tr>\n",
              "      <td>3</td>\n",
              "      <td>0.443628</td>\n",
              "      <td>0.365234</td>\n",
              "      <td>0.838432</td>\n",
              "      <td>02:00</td>\n",
              "    </tr>\n",
              "  </tbody>\n",
              "</table>"
            ],
            "text/plain": [
              "<IPython.core.display.HTML object>"
            ]
          },
          "metadata": {
            "tags": []
          }
        }
      ]
    },
    {
      "cell_type": "code",
      "metadata": {
        "id": "6VHA0eRISBbF",
        "outputId": "566d13ac-7d03-4278-e081-4467513d4b3f",
        "colab": {
          "base_uri": "https://localhost:8080/",
          "height": 34
        }
      },
      "source": [
        "clas_learner.predict(\"This is a horrible movie.\")"
      ],
      "execution_count": 38,
      "outputs": [
        {
          "output_type": "execute_result",
          "data": {
            "text/plain": [
              "(Category tensor(1), tensor(1), tensor([0.3501, 0.6499]))"
            ]
          },
          "metadata": {
            "tags": []
          },
          "execution_count": 38
        }
      ]
    },
    {
      "cell_type": "code",
      "metadata": {
        "id": "CXgIKlWb-Q8D",
        "outputId": "e3cb590c-0baa-408a-9c51-1f5ef37c08ed",
        "colab": {
          "base_uri": "https://localhost:8080/",
          "height": 34
        }
      },
      "source": [
        "clas_learner.predict(\"This is a great movie,\")"
      ],
      "execution_count": 39,
      "outputs": [
        {
          "output_type": "execute_result",
          "data": {
            "text/plain": [
              "(Category tensor(1), tensor(1), tensor([1.3781e-04, 9.9986e-01]))"
            ]
          },
          "metadata": {
            "tags": []
          },
          "execution_count": 39
        }
      ]
    },
    {
      "cell_type": "code",
      "metadata": {
        "id": "mazhyIrA-R0m",
        "outputId": "ec486ba7-f349-49e4-88e3-6c75646c04c8",
        "colab": {
          "base_uri": "https://localhost:8080/",
          "height": 34
        }
      },
      "source": [
        "# Check the label mapping\n",
        "# suppose it returns {'negative': 0, 'positive': 1}\n",
        "data_clas.train_ds.y.c2i"
      ],
      "execution_count": 40,
      "outputs": [
        {
          "output_type": "execute_result",
          "data": {
            "text/plain": [
              "{'negative': 0, 'positive': 1}"
            ]
          },
          "metadata": {
            "tags": []
          },
          "execution_count": 40
        }
      ]
    },
    {
      "cell_type": "code",
      "metadata": {
        "id": "-YRl2rhMPvuW"
      },
      "source": [
        "import pandas as pd\n",
        "\n",
        "\n",
        "df = pd.read_csv(path+\"/test.csv\")\n",
        "y_true = tensor(df[\"sentiment\"]==\"positive\")"
      ],
      "execution_count": 41,
      "outputs": []
    },
    {
      "cell_type": "code",
      "metadata": {
        "id": "oRekyOZ-1qQ1",
        "outputId": "edec0b8e-4c4e-48df-f115-c54e78fb4a8c",
        "colab": {
          "base_uri": "https://localhost:8080/",
          "height": 370
        }
      },
      "source": [
        "interp = TextClassificationInterpretation.from_learner(\n",
        "    clas_learner, \n",
        "    ds_type=DatasetType.Test  ## test removed \n",
        ")\n",
        "interp.y_true = tensor(df[\"sentiment\"]==\"positive\")\n",
        "interp.plot_confusion_matrix()"
      ],
      "execution_count": 48,
      "outputs": [
        {
          "output_type": "error",
          "ename": "AttributeError",
          "evalue": "ignored",
          "traceback": [
            "\u001b[0;31m---------------------------------------------------------------------------\u001b[0m",
            "\u001b[0;31mAttributeError\u001b[0m                            Traceback (most recent call last)",
            "\u001b[0;32m<ipython-input-48-7c4492f1508a>\u001b[0m in \u001b[0;36m<module>\u001b[0;34m()\u001b[0m\n\u001b[1;32m      1\u001b[0m interp = TextClassificationInterpretation.from_learner(\n\u001b[1;32m      2\u001b[0m     \u001b[0mclas_learner\u001b[0m\u001b[0;34m,\u001b[0m\u001b[0;34m\u001b[0m\u001b[0;34m\u001b[0m\u001b[0m\n\u001b[0;32m----> 3\u001b[0;31m     \u001b[0mds_type\u001b[0m\u001b[0;34m=\u001b[0m\u001b[0mDatasetType\u001b[0m\u001b[0;34m.\u001b[0m\u001b[0mTest\u001b[0m  \u001b[0;31m## test removed\u001b[0m\u001b[0;34m\u001b[0m\u001b[0;34m\u001b[0m\u001b[0m\n\u001b[0m\u001b[1;32m      4\u001b[0m )\n\u001b[1;32m      5\u001b[0m \u001b[0minterp\u001b[0m\u001b[0;34m.\u001b[0m\u001b[0my_true\u001b[0m \u001b[0;34m=\u001b[0m \u001b[0mtensor\u001b[0m\u001b[0;34m(\u001b[0m\u001b[0mdf\u001b[0m\u001b[0;34m[\u001b[0m\u001b[0;34m\"sentiment\"\u001b[0m\u001b[0;34m]\u001b[0m\u001b[0;34m==\u001b[0m\u001b[0;34m\"positive\"\u001b[0m\u001b[0;34m)\u001b[0m\u001b[0;34m\u001b[0m\u001b[0;34m\u001b[0m\u001b[0m\n",
            "\u001b[0;32m/usr/local/lib/python3.6/dist-packages/fastai/text/interpret.py\u001b[0m in \u001b[0;36mfrom_learner\u001b[0;34m(cls, learn, ds_type, activ)\u001b[0m\n\u001b[1;32m     45\u001b[0m     \u001b[0;32mdef\u001b[0m \u001b[0mfrom_learner\u001b[0m\u001b[0;34m(\u001b[0m\u001b[0mcls\u001b[0m\u001b[0;34m,\u001b[0m \u001b[0mlearn\u001b[0m\u001b[0;34m:\u001b[0m \u001b[0mLearner\u001b[0m\u001b[0;34m,\u001b[0m  \u001b[0mds_type\u001b[0m\u001b[0;34m:\u001b[0m\u001b[0mDatasetType\u001b[0m\u001b[0;34m=\u001b[0m\u001b[0mDatasetType\u001b[0m\u001b[0;34m.\u001b[0m\u001b[0mValid\u001b[0m\u001b[0;34m,\u001b[0m \u001b[0mactiv\u001b[0m\u001b[0;34m:\u001b[0m\u001b[0mnn\u001b[0m\u001b[0;34m.\u001b[0m\u001b[0mModule\u001b[0m\u001b[0;34m=\u001b[0m\u001b[0;32mNone\u001b[0m\u001b[0;34m)\u001b[0m\u001b[0;34m:\u001b[0m\u001b[0;34m\u001b[0m\u001b[0;34m\u001b[0m\u001b[0m\n\u001b[1;32m     46\u001b[0m         \u001b[0;34m\"Gets preds, y_true, losses to construct base class from a learner\"\u001b[0m\u001b[0;34m\u001b[0m\u001b[0;34m\u001b[0m\u001b[0m\n\u001b[0;32m---> 47\u001b[0;31m         \u001b[0;32mreturn\u001b[0m \u001b[0mcls\u001b[0m\u001b[0;34m(\u001b[0m\u001b[0mlearn\u001b[0m\u001b[0;34m,\u001b[0m \u001b[0;34m*\u001b[0m\u001b[0mlearn\u001b[0m\u001b[0;34m.\u001b[0m\u001b[0mget_preds\u001b[0m\u001b[0;34m(\u001b[0m\u001b[0mds_type\u001b[0m\u001b[0;34m=\u001b[0m\u001b[0mds_type\u001b[0m\u001b[0;34m,\u001b[0m \u001b[0mactiv\u001b[0m\u001b[0;34m=\u001b[0m\u001b[0mactiv\u001b[0m\u001b[0;34m,\u001b[0m \u001b[0mwith_loss\u001b[0m\u001b[0;34m=\u001b[0m\u001b[0;32mTrue\u001b[0m\u001b[0;34m,\u001b[0m \u001b[0mordered\u001b[0m\u001b[0;34m=\u001b[0m\u001b[0;32mTrue\u001b[0m\u001b[0;34m)\u001b[0m\u001b[0;34m)\u001b[0m\u001b[0;34m\u001b[0m\u001b[0;34m\u001b[0m\u001b[0m\n\u001b[0m\u001b[1;32m     48\u001b[0m \u001b[0;34m\u001b[0m\u001b[0m\n\u001b[1;32m     49\u001b[0m     \u001b[0;32mdef\u001b[0m \u001b[0mintrinsic_attention\u001b[0m\u001b[0;34m(\u001b[0m\u001b[0mself\u001b[0m\u001b[0;34m,\u001b[0m \u001b[0mtext\u001b[0m\u001b[0;34m:\u001b[0m\u001b[0mstr\u001b[0m\u001b[0;34m,\u001b[0m \u001b[0mclass_id\u001b[0m\u001b[0;34m:\u001b[0m\u001b[0mint\u001b[0m\u001b[0;34m=\u001b[0m\u001b[0;32mNone\u001b[0m\u001b[0;34m)\u001b[0m\u001b[0;34m:\u001b[0m\u001b[0;34m\u001b[0m\u001b[0;34m\u001b[0m\u001b[0m\n",
            "\u001b[0;32m/usr/local/lib/python3.6/dist-packages/fastai/text/learner.py\u001b[0m in \u001b[0;36mget_preds\u001b[0;34m(self, ds_type, activ, with_loss, n_batch, pbar, ordered)\u001b[0m\n\u001b[1;32m     88\u001b[0m         \u001b[0mself\u001b[0m\u001b[0;34m.\u001b[0m\u001b[0mmodel\u001b[0m\u001b[0;34m.\u001b[0m\u001b[0mreset\u001b[0m\u001b[0;34m(\u001b[0m\u001b[0;34m)\u001b[0m\u001b[0;34m\u001b[0m\u001b[0;34m\u001b[0m\u001b[0m\n\u001b[1;32m     89\u001b[0m         \u001b[0;32mif\u001b[0m \u001b[0mordered\u001b[0m\u001b[0;34m:\u001b[0m \u001b[0mnp\u001b[0m\u001b[0;34m.\u001b[0m\u001b[0mrandom\u001b[0m\u001b[0;34m.\u001b[0m\u001b[0mseed\u001b[0m\u001b[0;34m(\u001b[0m\u001b[0;36m42\u001b[0m\u001b[0;34m)\u001b[0m\u001b[0;34m\u001b[0m\u001b[0;34m\u001b[0m\u001b[0m\n\u001b[0;32m---> 90\u001b[0;31m         \u001b[0mpreds\u001b[0m \u001b[0;34m=\u001b[0m \u001b[0msuper\u001b[0m\u001b[0;34m(\u001b[0m\u001b[0;34m)\u001b[0m\u001b[0;34m.\u001b[0m\u001b[0mget_preds\u001b[0m\u001b[0;34m(\u001b[0m\u001b[0mds_type\u001b[0m\u001b[0;34m=\u001b[0m\u001b[0mds_type\u001b[0m\u001b[0;34m,\u001b[0m \u001b[0mactiv\u001b[0m\u001b[0;34m=\u001b[0m\u001b[0mactiv\u001b[0m\u001b[0;34m,\u001b[0m \u001b[0mwith_loss\u001b[0m\u001b[0;34m=\u001b[0m\u001b[0mwith_loss\u001b[0m\u001b[0;34m,\u001b[0m \u001b[0mn_batch\u001b[0m\u001b[0;34m=\u001b[0m\u001b[0mn_batch\u001b[0m\u001b[0;34m,\u001b[0m \u001b[0mpbar\u001b[0m\u001b[0;34m=\u001b[0m\u001b[0mpbar\u001b[0m\u001b[0;34m)\u001b[0m\u001b[0;34m\u001b[0m\u001b[0;34m\u001b[0m\u001b[0m\n\u001b[0m\u001b[1;32m     91\u001b[0m         \u001b[0;32mif\u001b[0m \u001b[0mordered\u001b[0m \u001b[0;32mand\u001b[0m \u001b[0mhasattr\u001b[0m\u001b[0;34m(\u001b[0m\u001b[0mself\u001b[0m\u001b[0;34m.\u001b[0m\u001b[0mdl\u001b[0m\u001b[0;34m(\u001b[0m\u001b[0mds_type\u001b[0m\u001b[0;34m)\u001b[0m\u001b[0;34m,\u001b[0m \u001b[0;34m'sampler'\u001b[0m\u001b[0;34m)\u001b[0m\u001b[0;34m:\u001b[0m\u001b[0;34m\u001b[0m\u001b[0;34m\u001b[0m\u001b[0m\n\u001b[1;32m     92\u001b[0m             \u001b[0mnp\u001b[0m\u001b[0;34m.\u001b[0m\u001b[0mrandom\u001b[0m\u001b[0;34m.\u001b[0m\u001b[0mseed\u001b[0m\u001b[0;34m(\u001b[0m\u001b[0;36m42\u001b[0m\u001b[0;34m)\u001b[0m\u001b[0;34m\u001b[0m\u001b[0;34m\u001b[0m\u001b[0m\n",
            "\u001b[0;32m/usr/local/lib/python3.6/dist-packages/fastai/basic_train.py\u001b[0m in \u001b[0;36mget_preds\u001b[0;34m(self, ds_type, activ, with_loss, n_batch, pbar)\u001b[0m\n\u001b[1;32m    339\u001b[0m         \u001b[0mcallbacks\u001b[0m \u001b[0;34m=\u001b[0m \u001b[0;34m[\u001b[0m\u001b[0mcb\u001b[0m\u001b[0;34m(\u001b[0m\u001b[0mself\u001b[0m\u001b[0;34m)\u001b[0m \u001b[0;32mfor\u001b[0m \u001b[0mcb\u001b[0m \u001b[0;32min\u001b[0m \u001b[0mself\u001b[0m\u001b[0;34m.\u001b[0m\u001b[0mcallback_fns\u001b[0m \u001b[0;34m+\u001b[0m \u001b[0mlistify\u001b[0m\u001b[0;34m(\u001b[0m\u001b[0mdefaults\u001b[0m\u001b[0;34m.\u001b[0m\u001b[0mextra_callback_fns\u001b[0m\u001b[0;34m)\u001b[0m\u001b[0;34m]\u001b[0m \u001b[0;34m+\u001b[0m \u001b[0mlistify\u001b[0m\u001b[0;34m(\u001b[0m\u001b[0mself\u001b[0m\u001b[0;34m.\u001b[0m\u001b[0mcallbacks\u001b[0m\u001b[0;34m)\u001b[0m\u001b[0;34m\u001b[0m\u001b[0;34m\u001b[0m\u001b[0m\n\u001b[1;32m    340\u001b[0m         return get_preds(self.model, self.dl(ds_type), cb_handler=CallbackHandler(callbacks),\n\u001b[0;32m--> 341\u001b[0;31m                          activ=activ, loss_func=lf, n_batch=n_batch, pbar=pbar)\n\u001b[0m\u001b[1;32m    342\u001b[0m \u001b[0;34m\u001b[0m\u001b[0m\n\u001b[1;32m    343\u001b[0m     def pred_batch(self, ds_type:DatasetType=DatasetType.Valid, batch:Tuple=None, reconstruct:bool=False,\n",
            "\u001b[0;32m/usr/local/lib/python3.6/dist-packages/fastai/basic_train.py\u001b[0m in \u001b[0;36mget_preds\u001b[0;34m(model, dl, pbar, cb_handler, activ, loss_func, n_batch)\u001b[0m\n\u001b[1;32m     42\u001b[0m     \u001b[0;34m\"Tuple of predictions and targets, and optional losses (if `loss_func`) using `dl`, max batches `n_batch`.\"\u001b[0m\u001b[0;34m\u001b[0m\u001b[0;34m\u001b[0m\u001b[0m\n\u001b[1;32m     43\u001b[0m     res = [to_float(torch.cat(o).cpu()) for o in\n\u001b[0;32m---> 44\u001b[0;31m            zip(*validate(model, dl, cb_handler=cb_handler, pbar=pbar, average=False, n_batch=n_batch))]\n\u001b[0m\u001b[1;32m     45\u001b[0m     \u001b[0;32mif\u001b[0m \u001b[0mloss_func\u001b[0m \u001b[0;32mis\u001b[0m \u001b[0;32mnot\u001b[0m \u001b[0;32mNone\u001b[0m\u001b[0;34m:\u001b[0m\u001b[0;34m\u001b[0m\u001b[0;34m\u001b[0m\u001b[0m\n\u001b[1;32m     46\u001b[0m         \u001b[0;32mwith\u001b[0m \u001b[0mNoneReduceOnCPU\u001b[0m\u001b[0;34m(\u001b[0m\u001b[0mloss_func\u001b[0m\u001b[0;34m)\u001b[0m \u001b[0;32mas\u001b[0m \u001b[0mlf\u001b[0m\u001b[0;34m:\u001b[0m \u001b[0mres\u001b[0m\u001b[0;34m.\u001b[0m\u001b[0mappend\u001b[0m\u001b[0;34m(\u001b[0m\u001b[0mlf\u001b[0m\u001b[0;34m(\u001b[0m\u001b[0mres\u001b[0m\u001b[0;34m[\u001b[0m\u001b[0;36m0\u001b[0m\u001b[0;34m]\u001b[0m\u001b[0;34m,\u001b[0m \u001b[0mres\u001b[0m\u001b[0;34m[\u001b[0m\u001b[0;36m1\u001b[0m\u001b[0;34m]\u001b[0m\u001b[0;34m)\u001b[0m\u001b[0;34m)\u001b[0m\u001b[0;34m\u001b[0m\u001b[0;34m\u001b[0m\u001b[0m\n",
            "\u001b[0;32m/usr/local/lib/python3.6/dist-packages/fastai/basic_train.py\u001b[0m in \u001b[0;36mvalidate\u001b[0;34m(model, dl, loss_func, cb_handler, pbar, average, n_batch)\u001b[0m\n\u001b[1;32m     54\u001b[0m     \u001b[0;32mwith\u001b[0m \u001b[0mtorch\u001b[0m\u001b[0;34m.\u001b[0m\u001b[0mno_grad\u001b[0m\u001b[0;34m(\u001b[0m\u001b[0;34m)\u001b[0m\u001b[0;34m:\u001b[0m\u001b[0;34m\u001b[0m\u001b[0;34m\u001b[0m\u001b[0m\n\u001b[1;32m     55\u001b[0m         \u001b[0mval_losses\u001b[0m\u001b[0;34m,\u001b[0m\u001b[0mnums\u001b[0m \u001b[0;34m=\u001b[0m \u001b[0;34m[\u001b[0m\u001b[0;34m]\u001b[0m\u001b[0;34m,\u001b[0m\u001b[0;34m[\u001b[0m\u001b[0;34m]\u001b[0m\u001b[0;34m\u001b[0m\u001b[0;34m\u001b[0m\u001b[0m\n\u001b[0;32m---> 56\u001b[0;31m         \u001b[0;32mif\u001b[0m \u001b[0mcb_handler\u001b[0m\u001b[0;34m:\u001b[0m \u001b[0mcb_handler\u001b[0m\u001b[0;34m.\u001b[0m\u001b[0mset_dl\u001b[0m\u001b[0;34m(\u001b[0m\u001b[0mdl\u001b[0m\u001b[0;34m)\u001b[0m\u001b[0;34m\u001b[0m\u001b[0;34m\u001b[0m\u001b[0m\n\u001b[0m\u001b[1;32m     57\u001b[0m         \u001b[0;32mfor\u001b[0m \u001b[0mxb\u001b[0m\u001b[0;34m,\u001b[0m\u001b[0myb\u001b[0m \u001b[0;32min\u001b[0m \u001b[0mprogress_bar\u001b[0m\u001b[0;34m(\u001b[0m\u001b[0mdl\u001b[0m\u001b[0;34m,\u001b[0m \u001b[0mparent\u001b[0m\u001b[0;34m=\u001b[0m\u001b[0mpbar\u001b[0m\u001b[0;34m,\u001b[0m \u001b[0mleave\u001b[0m\u001b[0;34m=\u001b[0m\u001b[0;34m(\u001b[0m\u001b[0mpbar\u001b[0m \u001b[0;32mis\u001b[0m \u001b[0;32mnot\u001b[0m \u001b[0;32mNone\u001b[0m\u001b[0;34m)\u001b[0m\u001b[0;34m)\u001b[0m\u001b[0;34m:\u001b[0m\u001b[0;34m\u001b[0m\u001b[0;34m\u001b[0m\u001b[0m\n\u001b[1;32m     58\u001b[0m             \u001b[0;32mif\u001b[0m \u001b[0mcb_handler\u001b[0m\u001b[0;34m:\u001b[0m \u001b[0mxb\u001b[0m\u001b[0;34m,\u001b[0m \u001b[0myb\u001b[0m \u001b[0;34m=\u001b[0m \u001b[0mcb_handler\u001b[0m\u001b[0;34m.\u001b[0m\u001b[0mon_batch_begin\u001b[0m\u001b[0;34m(\u001b[0m\u001b[0mxb\u001b[0m\u001b[0;34m,\u001b[0m \u001b[0myb\u001b[0m\u001b[0;34m,\u001b[0m \u001b[0mtrain\u001b[0m\u001b[0;34m=\u001b[0m\u001b[0;32mFalse\u001b[0m\u001b[0;34m)\u001b[0m\u001b[0;34m\u001b[0m\u001b[0;34m\u001b[0m\u001b[0m\n",
            "\u001b[0;32m/usr/local/lib/python3.6/dist-packages/fastai/callback.py\u001b[0m in \u001b[0;36mset_dl\u001b[0;34m(self, dl)\u001b[0m\n\u001b[1;32m    254\u001b[0m         \u001b[0;34m\"Set the current `dl` used.\"\u001b[0m\u001b[0;34m\u001b[0m\u001b[0;34m\u001b[0m\u001b[0m\n\u001b[1;32m    255\u001b[0m         \u001b[0;32mif\u001b[0m \u001b[0mhasattr\u001b[0m\u001b[0;34m(\u001b[0m\u001b[0mself\u001b[0m\u001b[0;34m,\u001b[0m \u001b[0;34m'cb_dl'\u001b[0m\u001b[0;34m)\u001b[0m\u001b[0;34m:\u001b[0m \u001b[0mself\u001b[0m\u001b[0;34m.\u001b[0m\u001b[0mcallbacks\u001b[0m\u001b[0;34m.\u001b[0m\u001b[0mremove\u001b[0m\u001b[0;34m(\u001b[0m\u001b[0mself\u001b[0m\u001b[0;34m.\u001b[0m\u001b[0mcb_dl\u001b[0m\u001b[0;34m)\u001b[0m\u001b[0;34m\u001b[0m\u001b[0;34m\u001b[0m\u001b[0m\n\u001b[0;32m--> 256\u001b[0;31m         \u001b[0;32mif\u001b[0m \u001b[0misinstance\u001b[0m\u001b[0;34m(\u001b[0m\u001b[0mdl\u001b[0m\u001b[0;34m.\u001b[0m\u001b[0mdataset\u001b[0m\u001b[0;34m,\u001b[0m \u001b[0mCallback\u001b[0m\u001b[0;34m)\u001b[0m\u001b[0;34m:\u001b[0m\u001b[0;34m\u001b[0m\u001b[0;34m\u001b[0m\u001b[0m\n\u001b[0m\u001b[1;32m    257\u001b[0m             \u001b[0mself\u001b[0m\u001b[0;34m.\u001b[0m\u001b[0mcallbacks\u001b[0m\u001b[0;34m.\u001b[0m\u001b[0mappend\u001b[0m\u001b[0;34m(\u001b[0m\u001b[0mdl\u001b[0m\u001b[0;34m.\u001b[0m\u001b[0mdataset\u001b[0m\u001b[0;34m)\u001b[0m\u001b[0;34m\u001b[0m\u001b[0;34m\u001b[0m\u001b[0m\n\u001b[1;32m    258\u001b[0m             \u001b[0mself\u001b[0m\u001b[0;34m.\u001b[0m\u001b[0mcb_dl\u001b[0m \u001b[0;34m=\u001b[0m \u001b[0mdl\u001b[0m\u001b[0;34m.\u001b[0m\u001b[0mdataset\u001b[0m\u001b[0;34m\u001b[0m\u001b[0;34m\u001b[0m\u001b[0m\n",
            "\u001b[0;31mAttributeError\u001b[0m: 'NoneType' object has no attribute 'dataset'"
          ]
        }
      ]
    },
    {
      "cell_type": "code",
      "metadata": {
        "id": "Ov9w-uNT8Ldd"
      },
      "source": [
        "from fastai.metrics import accuracy"
      ],
      "execution_count": 45,
      "outputs": []
    },
    {
      "cell_type": "code",
      "metadata": {
        "id": "x1GWfJNnOzaH",
        "outputId": "611bb45c-6e8b-49c0-ffd5-a2b75a58f6a5",
        "colab": {
          "base_uri": "https://localhost:8080/",
          "height": 279
        }
      },
      "source": [
        "accuracy(interp.preds, interp.y_true)"
      ],
      "execution_count": 46,
      "outputs": [
        {
          "output_type": "error",
          "ename": "RuntimeError",
          "evalue": "ignored",
          "traceback": [
            "\u001b[0;31m---------------------------------------------------------------------------\u001b[0m",
            "\u001b[0;31mRuntimeError\u001b[0m                              Traceback (most recent call last)",
            "\u001b[0;32m<ipython-input-46-84b80fc0d39a>\u001b[0m in \u001b[0;36m<module>\u001b[0;34m()\u001b[0m\n\u001b[0;32m----> 1\u001b[0;31m \u001b[0maccuracy\u001b[0m\u001b[0;34m(\u001b[0m\u001b[0minterp\u001b[0m\u001b[0;34m.\u001b[0m\u001b[0mpreds\u001b[0m\u001b[0;34m,\u001b[0m \u001b[0minterp\u001b[0m\u001b[0;34m.\u001b[0m\u001b[0my_true\u001b[0m\u001b[0;34m)\u001b[0m\u001b[0;34m\u001b[0m\u001b[0;34m\u001b[0m\u001b[0m\n\u001b[0m",
            "\u001b[0;32m/usr/local/lib/python3.6/dist-packages/fastai/metrics.py\u001b[0m in \u001b[0;36maccuracy\u001b[0;34m(input, targs)\u001b[0m\n\u001b[1;32m     26\u001b[0m     \u001b[0;34m\"Computes accuracy with `targs` when `input` is bs * n_classes.\"\u001b[0m\u001b[0;34m\u001b[0m\u001b[0;34m\u001b[0m\u001b[0m\n\u001b[1;32m     27\u001b[0m     \u001b[0mn\u001b[0m \u001b[0;34m=\u001b[0m \u001b[0mtargs\u001b[0m\u001b[0;34m.\u001b[0m\u001b[0mshape\u001b[0m\u001b[0;34m[\u001b[0m\u001b[0;36m0\u001b[0m\u001b[0;34m]\u001b[0m\u001b[0;34m\u001b[0m\u001b[0;34m\u001b[0m\u001b[0m\n\u001b[0;32m---> 28\u001b[0;31m     \u001b[0minput\u001b[0m \u001b[0;34m=\u001b[0m \u001b[0minput\u001b[0m\u001b[0;34m.\u001b[0m\u001b[0margmax\u001b[0m\u001b[0;34m(\u001b[0m\u001b[0mdim\u001b[0m\u001b[0;34m=\u001b[0m\u001b[0;34m-\u001b[0m\u001b[0;36m1\u001b[0m\u001b[0;34m)\u001b[0m\u001b[0;34m.\u001b[0m\u001b[0mview\u001b[0m\u001b[0;34m(\u001b[0m\u001b[0mn\u001b[0m\u001b[0;34m,\u001b[0m\u001b[0;34m-\u001b[0m\u001b[0;36m1\u001b[0m\u001b[0;34m)\u001b[0m\u001b[0;34m\u001b[0m\u001b[0;34m\u001b[0m\u001b[0m\n\u001b[0m\u001b[1;32m     29\u001b[0m     \u001b[0mtargs\u001b[0m \u001b[0;34m=\u001b[0m \u001b[0mtargs\u001b[0m\u001b[0;34m.\u001b[0m\u001b[0mview\u001b[0m\u001b[0;34m(\u001b[0m\u001b[0mn\u001b[0m\u001b[0;34m,\u001b[0m\u001b[0;34m-\u001b[0m\u001b[0;36m1\u001b[0m\u001b[0;34m)\u001b[0m\u001b[0;34m\u001b[0m\u001b[0;34m\u001b[0m\u001b[0m\n\u001b[1;32m     30\u001b[0m     \u001b[0;32mreturn\u001b[0m \u001b[0;34m(\u001b[0m\u001b[0minput\u001b[0m\u001b[0;34m==\u001b[0m\u001b[0mtargs\u001b[0m\u001b[0;34m)\u001b[0m\u001b[0;34m.\u001b[0m\u001b[0mfloat\u001b[0m\u001b[0;34m(\u001b[0m\u001b[0;34m)\u001b[0m\u001b[0;34m.\u001b[0m\u001b[0mmean\u001b[0m\u001b[0;34m(\u001b[0m\u001b[0;34m)\u001b[0m\u001b[0;34m\u001b[0m\u001b[0;34m\u001b[0m\u001b[0m\n",
            "\u001b[0;31mRuntimeError\u001b[0m: shape '[25000, -1]' is invalid for input of size 19999"
          ]
        }
      ]
    }
  ]
}