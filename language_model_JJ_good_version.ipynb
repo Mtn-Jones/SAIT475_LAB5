{
  "nbformat": 4,
  "nbformat_minor": 0,
  "metadata": {
    "colab": {
      "name": "language_model.ipynb",
      "provenance": [],
      "collapsed_sections": []
    },
    "kernelspec": {
      "name": "python3",
      "display_name": "Python 3"
    },
    "accelerator": "GPU"
  },
  "cells": [
    {
      "cell_type": "code",
      "metadata": {
        "id": "yTA7r-UtLIkk",
        "outputId": "0f686bbe-8a8d-44be-c70f-7f072ea0628f",
        "colab": {
          "base_uri": "https://localhost:8080/",
          "height": 54
        }
      },
      "source": [
        "from google.colab import drive\n",
        "drive.mount('/content/drive')"
      ],
      "execution_count": 17,
      "outputs": [
        {
          "output_type": "stream",
          "text": [
            "Drive already mounted at /content/drive; to attempt to forcibly remount, call drive.mount(\"/content/drive\", force_remount=True).\n"
          ],
          "name": "stdout"
        }
      ]
    },
    {
      "cell_type": "code",
      "metadata": {
        "id": "hgjoDE-OJRgI"
      },
      "source": [
        "from fastai.text import *\n",
        "\n",
        "path = \"/content/drive/My Drive/DATA-475/imdb\""
      ],
      "execution_count": 18,
      "outputs": []
    },
    {
      "cell_type": "code",
      "metadata": {
        "id": "Ng9a7n9kste4",
        "outputId": "59516578-9011-408b-c2ac-6ee404f6f46b",
        "colab": {
          "base_uri": "https://localhost:8080/",
          "height": 17
        }
      },
      "source": [
        "# create TextLMDataBunch using the csv in path\n",
        "#     remember to specify the text column\n",
        "# data_lm = ...\n",
        "data_lm = TextLMDataBunch.from_csv(\n",
        "    path,\n",
        "    \"train.csv\",\n",
        "    text_cols=\"review\"\n",
        ")"
      ],
      "execution_count": 19,
      "outputs": [
        {
          "output_type": "display_data",
          "data": {
            "text/html": [
              ""
            ],
            "text/plain": [
              "<IPython.core.display.HTML object>"
            ]
          },
          "metadata": {
            "tags": []
          }
        },
        {
          "output_type": "display_data",
          "data": {
            "text/html": [
              ""
            ],
            "text/plain": [
              "<IPython.core.display.HTML object>"
            ]
          },
          "metadata": {
            "tags": []
          }
        }
      ]
    },
    {
      "cell_type": "code",
      "metadata": {
        "id": "NCVGVEOWsS_G",
        "outputId": "ca4b2643-a2cd-4e1b-a3cd-741ef19cc2d8",
        "colab": {
          "base_uri": "https://localhost:8080/",
          "height": 17
        }
      },
      "source": [
        "# create TextClasDataBunch using the csv in path\n",
        "#     remember to specify the text/label column\n",
        "#     specify test dataset, vocab, and bs\n",
        "# data_clas = ...\n",
        "data_clas = TextClasDataBunch.from_csv(\n",
        "    path,\n",
        "    \"train.csv\",\n",
        "    test = \"test.csv\",\n",
        "    text_cols =\"review\",\n",
        "    label_cols=\"sentiment\",\n",
        "    vocab=data_lm.train_ds.vocab,\n",
        "    bs=32,\n",
        ")"
      ],
      "execution_count": 20,
      "outputs": [
        {
          "output_type": "display_data",
          "data": {
            "text/html": [
              ""
            ],
            "text/plain": [
              "<IPython.core.display.HTML object>"
            ]
          },
          "metadata": {
            "tags": []
          }
        },
        {
          "output_type": "display_data",
          "data": {
            "text/html": [
              ""
            ],
            "text/plain": [
              "<IPython.core.display.HTML object>"
            ]
          },
          "metadata": {
            "tags": []
          }
        },
        {
          "output_type": "display_data",
          "data": {
            "text/html": [
              ""
            ],
            "text/plain": [
              "<IPython.core.display.HTML object>"
            ]
          },
          "metadata": {
            "tags": []
          }
        }
      ]
    },
    {
      "cell_type": "code",
      "metadata": {
        "id": "WcrrDK7-aT0v"
      },
      "source": [
        "# create language model learner with AWD_LSTM architecture and drop_mult of 0.5\n",
        "# lm_learner = ...\n",
        "lm_learner = language_model_learner(data_lm, arch=AWD_LSTM, drop_mult=.5)"
      ],
      "execution_count": 21,
      "outputs": []
    },
    {
      "cell_type": "code",
      "metadata": {
        "id": "uZdK7lvW3_5n"
      },
      "source": [
        ""
      ],
      "execution_count": null,
      "outputs": []
    },
    {
      "cell_type": "code",
      "metadata": {
        "id": "XnMFnhvZVM8k",
        "outputId": "f01f2d55-4152-4ffd-efbd-b6cbd1380181",
        "colab": {
          "base_uri": "https://localhost:8080/",
          "height": 406
        }
      },
      "source": [
        "# find a learing rate\n",
        "lm_learner.lr_find()\n",
        "lm_learner.recorder.plot(suggestion=True)"
      ],
      "execution_count": 22,
      "outputs": [
        {
          "output_type": "display_data",
          "data": {
            "text/html": [
              "\n",
              "    <div>\n",
              "        <style>\n",
              "            /* Turns off some styling */\n",
              "            progress {\n",
              "                /* gets rid of default border in Firefox and Opera. */\n",
              "                border: none;\n",
              "                /* Needs to be in here for Safari polyfill so background images work as expected. */\n",
              "                background-size: auto;\n",
              "            }\n",
              "            .progress-bar-interrupted, .progress-bar-interrupted::-webkit-progress-bar {\n",
              "                background: #F44336;\n",
              "            }\n",
              "        </style>\n",
              "      <progress value='0' class='' max='1' style='width:300px; height:20px; vertical-align: middle;'></progress>\n",
              "      0.00% [0/1 00:00<00:00]\n",
              "    </div>\n",
              "    \n",
              "<table border=\"1\" class=\"dataframe\">\n",
              "  <thead>\n",
              "    <tr style=\"text-align: left;\">\n",
              "      <th>epoch</th>\n",
              "      <th>train_loss</th>\n",
              "      <th>valid_loss</th>\n",
              "      <th>accuracy</th>\n",
              "      <th>time</th>\n",
              "    </tr>\n",
              "  </thead>\n",
              "  <tbody>\n",
              "  </tbody>\n",
              "</table><p>\n",
              "\n",
              "    <div>\n",
              "        <style>\n",
              "            /* Turns off some styling */\n",
              "            progress {\n",
              "                /* gets rid of default border in Firefox and Opera. */\n",
              "                border: none;\n",
              "                /* Needs to be in here for Safari polyfill so background images work as expected. */\n",
              "                background-size: auto;\n",
              "            }\n",
              "            .progress-bar-interrupted, .progress-bar-interrupted::-webkit-progress-bar {\n",
              "                background: #F44336;\n",
              "            }\n",
              "        </style>\n",
              "      <progress value='99' class='' max='1336' style='width:300px; height:20px; vertical-align: middle;'></progress>\n",
              "      7.41% [99/1336 00:30<06:23 11.7772]\n",
              "    </div>\n",
              "    "
            ],
            "text/plain": [
              "<IPython.core.display.HTML object>"
            ]
          },
          "metadata": {
            "tags": []
          }
        },
        {
          "output_type": "stream",
          "text": [
            "LR Finder is complete, type {learner_name}.recorder.plot() to see the graph.\n",
            "Min numerical gradient: 2.75E-06\n",
            "Min loss divided by 10: 6.92E-03\n"
          ],
          "name": "stdout"
        },
        {
          "output_type": "display_data",
          "data": {
            "image/png": "[encoded data removed]",
            "text/plain": [
              "<Figure size 432x288 with 1 Axes>"
            ]
          },
          "metadata": {
            "tags": [],
            "needs_background": "light"
          }
        }
      ]
    },
    {
      "cell_type": "code",
      "metadata": {
        "id": "B9DZ8FALAw7r",
        "outputId": "f7f6a147-c633-4b58-cd9a-18ee869d060a",
        "colab": {
          "base_uri": "https://localhost:8080/",
          "height": 106
        }
      },
      "source": [
        "# fit one cycle\n",
        "lr = lm_learner.recorder.min_grad_lr\n",
        "lm_learner.fit_one_cycle(2, lr)"
      ],
      "execution_count": null,
      "outputs": [
        {
          "output_type": "display_data",
          "data": {
            "text/html": [
              "<table border=\"1\" class=\"dataframe\">\n",
              "  <thead>\n",
              "    <tr style=\"text-align: left;\">\n",
              "      <th>epoch</th>\n",
              "      <th>train_loss</th>\n",
              "      <th>valid_loss</th>\n",
              "      <th>accuracy</th>\n",
              "      <th>time</th>\n",
              "    </tr>\n",
              "  </thead>\n",
              "  <tbody>\n",
              "    <tr>\n",
              "      <td>0</td>\n",
              "      <td>4.667805</td>\n",
              "      <td>4.477382</td>\n",
              "      <td>0.263375</td>\n",
              "      <td>04:24</td>\n",
              "    </tr>\n",
              "    <tr>\n",
              "      <td>1</td>\n",
              "      <td>4.707440</td>\n",
              "      <td>4.475968</td>\n",
              "      <td>0.263494</td>\n",
              "      <td>04:24</td>\n",
              "    </tr>\n",
              "  </tbody>\n",
              "</table>"
            ],
            "text/plain": [
              "<IPython.core.display.HTML object>"
            ]
          },
          "metadata": {
            "tags": []
          }
        }
      ]
    },
    {
      "cell_type": "code",
      "metadata": {
        "id": "3ZIbQuXSKS5V"
      },
      "source": [
        "# save the encoder\n",
        "# save the encoder\n",
        "lm_learner.save_encoder(\"model\")"
      ],
      "execution_count": 23,
      "outputs": []
    },
    {
      "cell_type": "code",
      "metadata": {
        "id": "OFGrAyvQvXLH",
        "outputId": "daaaf16a-1dc5-459a-b8aa-86e253dace4c",
        "colab": {
          "base_uri": "https://localhost:8080/",
          "height": 52
        }
      },
      "source": [
        "lm_learner.predict(\"this movie talks about Canadian\", n_words=20)"
      ],
      "execution_count": 24,
      "outputs": [
        {
          "output_type": "execute_result",
          "data": {
            "application/vnd.google.colaboratory.intrinsic+json": {
              "type": "string"
            },
            "text/plain": [
              "'this movie talks about Canadian boxing captains . After former United States Senator Lee Mitch Mikes told'"
            ]
          },
          "metadata": {
            "tags": []
          },
          "execution_count": 24
        }
      ]
    },
    {
      "cell_type": "code",
      "metadata": {
        "id": "ehtPdWiP7PpT",
        "outputId": "1420e096-10f7-4815-9ac2-996f93483336",
        "colab": {
          "base_uri": "https://localhost:8080/",
          "height": 1000
        }
      },
      "source": [
        "clas_learner = text_classifier_learner(data_clas, arch=AWD_LSTM, drop_mult=0.5)\n",
        "clas_learner.load_encoder(\"model\")"
      ],
      "execution_count": 25,
      "outputs": [
        {
          "output_type": "execute_result",
          "data": {
            "text/plain": [
              "RNNLearner(data=TextClasDataBunch;\n",
              "\n",
              "Train: LabelList (19999 items)\n",
              "x: TextList\n",
              "xxbos xxmaj mirage ( 1990 ) is a very rare horror / chiller from 1990 , released here in the xxup uk on the \" xxmaj new xxmaj world xxmaj video \" label . xxmaj it 's a desert based horror film about a group of young friends who are partying for the weekend , only to be killed off one by one by an unknown force who drives a menacing black truck ! ! ! xxmaj this film has some creepy scenes , and some gore here and there , but i have to say that the acting was so lame , even by low budget standards ! xxmaj but the film was oddly addictive and i liked it , and i never fell asleep or turned it off , which is always a good sign ! i nearly gave this movie 6 / 10 , but seeing as it built up steam along the way , had some good moments of gore and suspense , had some good nudity , and the fact that the blonde in the main female role was a hottie too ! i 'll give it 7 / 10 .,xxbos i enjoyed this film . xxmaj but i was surprised to see people referring to it as a comedy . xxmaj it was amusing at times , but really , it was n't very funny at all . xxmaj if i 'd been expecting it to be a comedy , i might have been disappointed with the film , but , going in with no expectations , i found it to be enjoyable and engaging . xxmaj maybe it was because , as an engineer , i identified with the protagonist . i was less concerned with satire of capital or labor , and more into the basic story of a man fighting for his invention . a man who 's less interested in monetary gain from his invention than he is in seeing it come to fruition and be put into production . xxmaj he 's absolutely heroic when he refuses to take the big money and the hot woman in return for suppressing his invention . xxmaj so i find it interesting that people here have compared it to xxmaj jurassic xxmaj park ; me , i compare it to xxmaj the xxmaj xxunk .,xxbos xxmaj splendid film that in just eight minutes displays an unusual genre mix : mystery , thriller , musical . xxmaj briefly , we are allowed to tell about the story : a girl comes into a xxmaj european xxmaj cafeteria and then ... xxmaj soft transit from nonsense mystery to narrative logic . xxmaj in a no time , no place way xxmaj vigalondo managed a delight in b / w by means of imagination and despite ( thanks to ) the xxunk of budgets . xxmaj because of the unity of time - space the film reaches the intensity of a short poem ( almost a haiku ) . xxmaj spain , land of quick poetry in b / w ( ¿ remember the early xxunk must see for reassuring our belief in young cinema outside the xxmaj states .,xxbos xxmaj since xxmaj siskel 's death and xxmaj ebert 's absence the show has been left in the incapable hands of xxmaj richard xxmaj roeper . xxmaj roeper is not a film critic he just criticizes anything he does n't like personally i.e. films with country music get panned because \" i do n't like country music ! \" and children 's movies get a standard \" xxmaj do n't see it now , wait until it comes out on xxup dvd and rent it for your kids ! \" xxmaj roeper may well be an idiot savant , but in some other field . xxmaj the weekly guests ' sitting - in ' for xxmaj ebert fare better , but who wants to pick a daisy in the midst of a cow pat ? xxmaj all that said , it xxup is the only show in town and that alone makes it worth watching . xxmaj as for xxmaj roger xxmaj ebert , if xxmaj stephen xxmaj hawking can talk , so can you ! xxmaj it 's your mind and thoughts we long for . xxmaj do whatever is necessary to get that xxunk off his self - declared throne .,xxbos i went looking for this movie in typical fan obsession . i just wanted to check it out . i was not expecting much of anything . xxmaj after all , a musician , an actor and a screenplay writer ? xxmaj not possible for so much talent to reside in one person . xxmaj right ? ? xxmaj wrong ! ! xxmaj obsession aside , it quickly became one of my favorites ! xxmaj the story line and characters are not lost in the typical hyped up xxmaj hollywood special effects . xxmaj the story xxunk at your emotions and pulls you along . xxmaj as the credits roll by , you suddenly realize you were glued until the end . xxmaj at times , the acting seems a little over the top . i do , however , believe it 's done with comedic intent and very fitting of the character . xxmaj otherwise , i would n't have expected the level of acting witnessed . xxmaj it 's worth seeing more than once . i find myself laughing hysterically or gasping unexpectedly over something i either missed or forgot about the first time or two around . i completely recommend this movie . xxmaj feel free to go in with your doubts , but i 'm sure it will find a place on your shelf .\n",
              "y: CategoryList\n",
              "positive,positive,positive,positive,positive\n",
              "Path: /content/drive/My Drive/DATA-475/imdb;\n",
              "\n",
              "Valid: LabelList (5001 items)\n",
              "x: TextList\n",
              "xxbos xxmaj having previously seen the abridged print presented by xxmaj david xxmaj shepard , i finally got a hold of a complete -- or nearer complete version , which was about 56 minutes compared to the 30-minute version more widely distributed . xxmaj the xxmaj shepard print for xxmaj image xxmaj entertainment is certainly of superior quality , and the best parts are there , but it 's nonetheless good to see the rest of the film and fill in some loose story ends . xxmaj in the xxmaj shepard print , the film ends with xxmaj mary stating , \" xxmaj you see , i 've changed my mind -- xxmaj i'm never going home . \" xxmaj yet , in the complete version , xxmaj mary and xxmaj kenneth xxmaj driscoll end their relationship soon after that scene  xxmaj mary returns home to the country  and xxmaj driscoll rekindles his relationship with xxmaj vivian . xxmaj this additional footage develops the character xxmaj vivian , who had little relevance in the xxmaj shepard version . xxmaj moreover , in the complete version , the film begins in the xxmaj new xxmaj jersey countryside with xxmaj mary , where she reads and fantasizes about her ideal lover . xxmaj she 's disappointed by the reality of the advances by farm \" chore boy \" xxmaj johnny xxmaj xxunk ( a character completely absent from the xxmaj shepard version ) , but after her affair with xxmaj driscoll , she returns to the country to presumably and eventually become a farmer 's wife . xxmaj regardless of the print , ' a xxmaj girl 's xxmaj folly ' is a good little film for 1917 , made by one of the top directors of the 1910s xxmaj maurice xxmaj tourneur . xxmaj in it , xxmaj tourneur takes plenty of jabs at his own business , including by playing a caricature of himself -- the director of the film - within - the - film . xxmaj the two leads also give quality performances by early screen - acting standards : xxmaj robert xxmaj warwick , an actor playing a skirt - chasing star , and xxmaj doris xxmaj kenyon , as an ingénue aspiring to play an ingénue on the screen . xxmaj self - referential films , which made film - making the focus of the films , were nothing new by now . xxmaj mack xxmaj sennett had already parodied this type of film three years prior with ' xxmaj mabel 's xxmaj dramatic xxmaj career ' . xxmaj several aspects of this one stand out , though . xxmaj frances xxmaj marion 's intertitles are humorous , including illustrations of the actors on a xxunk with a hand directing them -- remarkable for 1917 . i especially liked the film 's final title cards where two observers remark on the film 's happy ending : \" xxmaj gee but ai n't that xxunk ! \" xxmaj and , the other replies , \" xxmaj romance , xxunk !  xxmaj that 's movin ' pictures ! \" xxmaj fellow female screenwriter xxmaj anita xxmaj loos made a similar self - referential conclusion to another film from 1917 ' xxmaj wild and xxmaj xxunk ' . xxmaj both writers helped change the role of their professions in the business and art . xxmaj some of the photography by xxmaj tourneur and xxmaj john van den xxmaj xxunk is good , especially concerning the film - making business . xxmaj the use of mirrors in several scenes is a nice xxunk of the film 's self - xxunk . xxmaj furthermore , the editing is exceptional . xxmaj the quick xxunk during the studio scenes is especially salient ; it serves to punctuate the hectic pace filmmakers work at , especially back then .,xxbos xxmaj have you ever felt like your being watched , like someone keeps tabs on every move you make ? xxmaj well , just remember before you decide to break the law , the xxup fbi will always be there . xxmaj at least that 's the feeling you get after watching the gripping but slightly mellow crime drama , xxmaj the xxup fbi story . xxmaj it traces the roots of the organization from a small bureau to one of the most modern facilities in the world ( in 1959 ) , by telling the story through they eyes of one of its agents , xxmaj chip xxmaj hardesty ( xxmaj james xxunk was with the xxup fbi from day one , and he gladly puts his job above everything else in the world , even occasionally his family . xxmaj the xxup fbi xxmaj story tracks his life by depicting what he does as an agent , and how being one affects his personal life . xxmaj the film does a spectacular job of showing what kind of cases the xxup fbi handles and how they handle them . xxmaj the audience gets to see xxmaj chip stop xxmaj ku xxmaj klux xxmaj klan riots , go undercover to solve an xxmaj indian murder / estate scandal , bring xxunk into custody , rescue hostages , and helped fight in xxup wwii . xxmaj he even helped bring xxmaj communist spies to justice . xxmaj stewart , in a vaguely complex performance , is stellar ( as always ) as the slightly neurotic agent who loves his job maybe a little too much . xxmaj one of the best parts about this film is that we get to see the inside workings of both xxmaj chip 's family life and his job . xxmaj we witness him suffer through the death of his best friend and then his son . xxmaj we also observe his wife having a miscarriage , and his marriage having rocky times . xxmaj almost all of his personal problems are caused by love of his job . xxmaj vera xxmaj miles gives a spotty performance , but it 's very convincing , none the less . xxmaj she was never a brilliant actress , but there was always something very attractive and alluring about her . xxmaj well maybe that 's just me ? xxmaj sadly , none of the other performances are worth mentioning , but the attention - grabbing story managed to keep me exceedingly interested . xxmaj the cinematography of this film was impressive , especially the scenes in the xxmaj south xxmaj american jungles . xxmaj the colors all had a texture that really set the atmosphere of the film . xxmaj perhaps the greatest part of this movie was xxmaj mervyn xxmaj leroy 's fabulous direction . xxmaj every scene was so fluid they just rolled together to tell a brilliant story . xxmaj it 's chock full of ingenious camera shots , some with a very xxmaj hitchcockian feel . xxmaj all in all , xxmaj the xxup fbi xxmaj story is a spectacular , but overlooked film . xxmaj clocking in at two and a half hours some viewers might be intimidated , but if you get the chance i recommend jumping into this one . i enjoyed xxmaj jimmy xxmaj stewart 's spectacular performance , and the captivating story .,xxbos i 'm here again in your local shopping mall ( of course , 'cause that 's where the high school kids hang out xxrep 5 ! ) to demonstrate how awful \" xxup xxunk xxup poo : xxup prom xxup courier \" really is xxrep 5 ! xxmaj to prove how bad this joke of a xxup dcom this is xxrep 6 . we 're going to take these four sumo wrestlers , and stuff them into this photo booth . xxmaj how ... cozy xxrep 5 ! xxmaj hai ! h xxrep 7 u a xxrep 4 r g xxrep 6 h xxrep 14 ! xxmaj uh xxrep 5 ! xxmaj how awful is it xxrep 5 ? xxmaj it 's so bad , xxmaj disney xxmaj channel flushes away its money , yet again , with those exciting yet determining 10-second promos , keeping the viewers wondering , \" xxup when xxup is xxup this xxup going xxup to xxup be xxup on xxrep 5 ? \" xxmaj and then , suddenly , when it xxup does come on , for one , this not only got a higher xxup tv rating than usual , but this was only seen once xxrep 5 ! xxmaj oh , no xxrep 5 ! xxmaj one time everyone xxrep 5 ! xxmaj plus , this movie is about high school and stuff , and believe me , i will xxup not go any further with what else is in there xxrep 5 . xxmaj say ch ... smile xxrep 5 ! ( xxup snap ! ) xxmaj avoid this one at all costs . 0 / 10,xxbos xxmaj citizen x tells the real life drama of the search for a serial killer dubbed \" xxmaj the xxmaj rostov xxmaj ripper \" xxmaj this great film shows the long journey it took to try to apprehend a killer . xxmaj the film shows how politics may haver helped the killer to continue his rampage for over 12 years . ( xxmaj possibly over 50 victims , mostly women and children ) xxmaj the performances of xxmaj stephen xxmaj rea as the lead detective and xxmaj donald xxmaj sutherland as the overall investigation lead was superb . xxmaj jeffrey demunn as the xxmaj ripper xxmaj andrei xxmaj xxunk xxmaj chikatilo . xxmaj this is the type of film which will mesmerize you and immediately have you on the internet researching the real case . xxmaj this a film not to be missed . xxmaj it debuted i believe on xxup hbo and never did get a theatrical release to my understanding . xxmaj great film,xxbos xxmaj this film , as low budget as it may be , is one of the best psychological thrillers i 've ever seen . xxmaj if you accept that it 's low budget from the start , you can appreciate just how good of a story it is , how very well written the script is , and how great the filmmaker was to produce something so wonderful with so little money . xxmaj all the elements of a great film are here . xxmaj the visuals , though shot on digital , were gorgeous in places . xxmaj the bizarre , dreamy feel of the film is captured particularly well in the scene with the talking dog , that scene was just amazing . xxmaj it 's such a trippy piece of work , but not done in a pretentious way , and because of that i have a whole lot of respect for this film . xxmaj it comes highly recommended to anyone looking for something unique and captivating , and different from much of the repetitive films that are out there .\n",
              "y: CategoryList\n",
              "positive,positive,negative,positive,positive\n",
              "Path: /content/drive/My Drive/DATA-475/imdb;\n",
              "\n",
              "Test: LabelList (25000 items)\n",
              "x: TextList\n",
              "xxbos i went and saw this movie last night after being coaxed to by a few friends of mine . i 'll admit that i was reluctant to see it because from what i knew of xxmaj ashton xxmaj kutcher he was only able to do comedy . i was wrong . xxmaj kutcher played the character of xxmaj jake xxmaj fischer very well , and xxmaj kevin xxmaj costner played xxmaj ben xxmaj randall with such professionalism . xxmaj the sign of a good movie is that it can toy with our emotions . xxmaj this one did exactly that . xxmaj the entire theater ( which was sold out ) was overcome by laughter during the first half of the movie , and were moved to tears during the second half . xxmaj while exiting the theater i not only saw many women in tears , but many full grown men as well , trying desperately not to let anyone see them crying . xxmaj this movie was great , and i suggest that you go see it before you judge .,xxbos xxmaj actor turned director xxmaj bill xxmaj paxton follows up his promising debut , the xxmaj gothic - horror \" xxmaj frailty \" , with this family friendly sports drama about the 1913 xxup u.s. xxmaj open where a young xxmaj american caddy rises from his humble background to play against his xxmaj xxunk idol in what was dubbed as \" xxmaj the xxmaj greatest xxmaj game xxmaj ever xxmaj played . \" i 'm no fan of golf , and these scrappy underdog sports flicks are a dime a dozen ( most recently done to grand effect with \" xxmaj miracle \" and \" xxmaj cinderella xxmaj man \" ) , but some how this film was enthralling all the same . xxmaj the film starts with some creative opening credits ( imagine a xxmaj xxunk version of the animated opening credits of xxup hbo 's \" xxmaj carnivale \" and \" xxmaj rome \" ) , but xxunk along slowly for its first by - the - numbers hour . xxmaj once the action moves to the xxup u.s. xxmaj open things pick up very well . xxmaj paxton does a nice job and shows a knack for effective directorial flourishes ( i loved the rain - soaked montage of the action on day two of the open ) that propel the plot further or add some unexpected psychological depth to the proceedings . xxmaj there 's some compelling character development when the xxmaj british xxmaj harry xxmaj xxunk is haunted by images of the aristocrats in black suits and top hats who destroyed his family cottage as a child to make way for a golf course . xxmaj he also does a good job of visually depicting what goes on in the players ' heads under pressure . xxmaj golf , a painfully boring sport , is brought vividly alive here . xxmaj credit should also be given the set designers and costume department for creating an engaging period - piece atmosphere of xxmaj london and xxmaj boston at the beginning of the twentieth century . xxmaj you know how this is going to end not only because it 's based on a true story but also because films in this genre follow the same template over and over , but xxmaj paxton puts on a better than average show and perhaps indicates more talent behind the camera than he ever had in front of it . xxmaj despite the formulaic nature , this is a nice and easy film to root for that deserves to find an audience .,xxbos xxmaj as a recreational xxunk with some knowledge of the sport 's history , i was pleased with xxmaj disney 's sensitivity to the issues of class in golf in the early twentieth century . xxmaj the movie depicted well the psychological battles that xxmaj harry xxmaj xxunk fought within himself , from his childhood trauma of being evicted to his own inability to break that glass ceiling that prevents him from being accepted as an equal in xxmaj english golf society . xxmaj likewise , the young xxmaj xxunk goes through his own class struggles , being a mere xxunk in the eyes of the upper crust xxmaj americans who scoff at his attempts to rise above his standing . xxmaj what i loved best , however , is how this theme of class is manifested in the characters of xxmaj xxunk 's parents . xxmaj his father is a working - class drone who sees the value of hard work but is intimidated by the upper class ; his mother , however , recognizes her son 's talent and desire and encourages him to pursue his dream of competing against those who think he is inferior . xxmaj finally , the golf scenes are well photographed . xxmaj although the course used in the movie was not the actual site of the historical tournament , the little liberties taken by xxmaj disney do not detract from the beauty of the film . xxmaj there 's one little xxmaj disney moment at the pool table ; otherwise , the viewer does not really think xxmaj disney . xxmaj the ending , as in \" xxmaj miracle , \" is not some xxmaj disney creation , but one that only human history could have written .,xxbos i saw this film in a sneak preview , and it is delightful . xxmaj the cinematography is unusually creative , the acting is good , and the story is fabulous . xxmaj if this movie does not do well , it wo n't be because it does n't deserve to . xxmaj before this film , i did n't realize how charming xxmaj shia xxmaj xxunk could be . xxmaj he does a marvelous , self - contained , job as the lead . xxmaj there 's something incredibly sweet about him , and it makes the movie even better . xxmaj the other actors do a good job as well , and the film contains moments of really high suspense , more than one might expect from a movie about golf . xxmaj sports movies are a dime a dozen , but this one stands out . xxmaj this is one i 'd recommend to anyone .,xxbos xxmaj bill xxmaj paxton has taken the true story of the 1913 xxup us golf open and made a film that is about much more than an extra - ordinary game of golf . xxmaj the film also deals directly with the class tensions of the early twentieth century and touches upon the profound anti - xxmaj catholic prejudices of both the xxmaj british and xxmaj american establishments . xxmaj but at heart the film is about that perennial favourite of triumph against the odds . xxmaj the acting is exemplary throughout . xxmaj stephen xxmaj xxunk is excellent as usual , but the revelation of the movie is xxmaj shia xxunk who delivers a disciplined , dignified and highly sympathetic performance as a working class xxmaj franco - xxmaj irish kid fighting his way through the prejudices of the xxmaj new xxmaj england xxup wasp establishment . xxmaj for those who are only familiar with his slap - stick performances in \" xxmaj even xxmaj stevens \" this demonstration of his maturity is a delightful surprise . xxmaj and xxmaj josh xxmaj flitter as the ten year old caddy threatens to steal every scene in which he appears . a old fashioned movie in the best sense of the word : fine acting , clear directing and a great story that grips to the end - the final scene an affectionate nod to xxmaj casablanca is just one of the many pleasures that fill a great movie .\n",
              "y: EmptyLabelList\n",
              ",,,,\n",
              "Path: /content/drive/My Drive/DATA-475/imdb, model=SequentialRNN(\n",
              "  (0): MultiBatchEncoder(\n",
              "    (module): AWD_LSTM(\n",
              "      (encoder): Embedding(44176, 400, padding_idx=1)\n",
              "      (encoder_dp): EmbeddingDropout(\n",
              "        (emb): Embedding(44176, 400, padding_idx=1)\n",
              "      )\n",
              "      (rnns): ModuleList(\n",
              "        (0): WeightDropout(\n",
              "          (module): LSTM(400, 1152, batch_first=True)\n",
              "        )\n",
              "        (1): WeightDropout(\n",
              "          (module): LSTM(1152, 1152, batch_first=True)\n",
              "        )\n",
              "        (2): WeightDropout(\n",
              "          (module): LSTM(1152, 400, batch_first=True)\n",
              "        )\n",
              "      )\n",
              "      (input_dp): RNNDropout()\n",
              "      (hidden_dps): ModuleList(\n",
              "        (0): RNNDropout()\n",
              "        (1): RNNDropout()\n",
              "        (2): RNNDropout()\n",
              "      )\n",
              "    )\n",
              "  )\n",
              "  (1): PoolingLinearClassifier(\n",
              "    (layers): Sequential(\n",
              "      (0): BatchNorm1d(1200, eps=1e-05, momentum=0.1, affine=True, track_running_stats=True)\n",
              "      (1): Dropout(p=0.2, inplace=False)\n",
              "      (2): Linear(in_features=1200, out_features=50, bias=True)\n",
              "      (3): ReLU(inplace=True)\n",
              "      (4): BatchNorm1d(50, eps=1e-05, momentum=0.1, affine=True, track_running_stats=True)\n",
              "      (5): Dropout(p=0.1, inplace=False)\n",
              "      (6): Linear(in_features=50, out_features=2, bias=True)\n",
              "    )\n",
              "  )\n",
              "), opt_func=functools.partial(<class 'torch.optim.adam.Adam'>, betas=(0.9, 0.99)), loss_func=FlattenedLoss of CrossEntropyLoss(), metrics=[<function accuracy at 0x7fe931c7eea0>], true_wd=True, bn_wd=True, wd=0.01, train_bn=True, path=PosixPath('/content/drive/My Drive/DATA-475/imdb'), model_dir='models', callback_fns=[functools.partial(<class 'fastai.basic_train.Recorder'>, add_time=True, silent=False)], callbacks=[RNNTrainer\n",
              "learn: RNNLearner(data=TextClasDataBunch;\n",
              "\n",
              "Train: LabelList (19999 items)\n",
              "x: TextList\n",
              "xxbos xxmaj mirage ( 1990 ) is a very rare horror / chiller from 1990 , released here in the xxup uk on the \" xxmaj new xxmaj world xxmaj video \" label . xxmaj it 's a desert based horror film about a group of young friends who are partying for the weekend , only to be killed off one by one by an unknown force who drives a menacing black truck ! ! ! xxmaj this film has some creepy scenes , and some gore here and there , but i have to say that the acting was so lame , even by low budget standards ! xxmaj but the film was oddly addictive and i liked it , and i never fell asleep or turned it off , which is always a good sign ! i nearly gave this movie 6 / 10 , but seeing as it built up steam along the way , had some good moments of gore and suspense , had some good nudity , and the fact that the blonde in the main female role was a hottie too ! i 'll give it 7 / 10 .,xxbos i enjoyed this film . xxmaj but i was surprised to see people referring to it as a comedy . xxmaj it was amusing at times , but really , it was n't very funny at all . xxmaj if i 'd been expecting it to be a comedy , i might have been disappointed with the film , but , going in with no expectations , i found it to be enjoyable and engaging . xxmaj maybe it was because , as an engineer , i identified with the protagonist . i was less concerned with satire of capital or labor , and more into the basic story of a man fighting for his invention . a man who 's less interested in monetary gain from his invention than he is in seeing it come to fruition and be put into production . xxmaj he 's absolutely heroic when he refuses to take the big money and the hot woman in return for suppressing his invention . xxmaj so i find it interesting that people here have compared it to xxmaj jurassic xxmaj park ; me , i compare it to xxmaj the xxmaj xxunk .,xxbos xxmaj splendid film that in just eight minutes displays an unusual genre mix : mystery , thriller , musical . xxmaj briefly , we are allowed to tell about the story : a girl comes into a xxmaj european xxmaj cafeteria and then ... xxmaj soft transit from nonsense mystery to narrative logic . xxmaj in a no time , no place way xxmaj vigalondo managed a delight in b / w by means of imagination and despite ( thanks to ) the xxunk of budgets . xxmaj because of the unity of time - space the film reaches the intensity of a short poem ( almost a haiku ) . xxmaj spain , land of quick poetry in b / w ( ¿ remember the early xxunk must see for reassuring our belief in young cinema outside the xxmaj states .,xxbos xxmaj since xxmaj siskel 's death and xxmaj ebert 's absence the show has been left in the incapable hands of xxmaj richard xxmaj roeper . xxmaj roeper is not a film critic he just criticizes anything he does n't like personally i.e. films with country music get panned because \" i do n't like country music ! \" and children 's movies get a standard \" xxmaj do n't see it now , wait until it comes out on xxup dvd and rent it for your kids ! \" xxmaj roeper may well be an idiot savant , but in some other field . xxmaj the weekly guests ' sitting - in ' for xxmaj ebert fare better , but who wants to pick a daisy in the midst of a cow pat ? xxmaj all that said , it xxup is the only show in town and that alone makes it worth watching . xxmaj as for xxmaj roger xxmaj ebert , if xxmaj stephen xxmaj hawking can talk , so can you ! xxmaj it 's your mind and thoughts we long for . xxmaj do whatever is necessary to get that xxunk off his self - declared throne .,xxbos i went looking for this movie in typical fan obsession . i just wanted to check it out . i was not expecting much of anything . xxmaj after all , a musician , an actor and a screenplay writer ? xxmaj not possible for so much talent to reside in one person . xxmaj right ? ? xxmaj wrong ! ! xxmaj obsession aside , it quickly became one of my favorites ! xxmaj the story line and characters are not lost in the typical hyped up xxmaj hollywood special effects . xxmaj the story xxunk at your emotions and pulls you along . xxmaj as the credits roll by , you suddenly realize you were glued until the end . xxmaj at times , the acting seems a little over the top . i do , however , believe it 's done with comedic intent and very fitting of the character . xxmaj otherwise , i would n't have expected the level of acting witnessed . xxmaj it 's worth seeing more than once . i find myself laughing hysterically or gasping unexpectedly over something i either missed or forgot about the first time or two around . i completely recommend this movie . xxmaj feel free to go in with your doubts , but i 'm sure it will find a place on your shelf .\n",
              "y: CategoryList\n",
              "positive,positive,positive,positive,positive\n",
              "Path: /content/drive/My Drive/DATA-475/imdb;\n",
              "\n",
              "Valid: LabelList (5001 items)\n",
              "x: TextList\n",
              "xxbos xxmaj having previously seen the abridged print presented by xxmaj david xxmaj shepard , i finally got a hold of a complete -- or nearer complete version , which was about 56 minutes compared to the 30-minute version more widely distributed . xxmaj the xxmaj shepard print for xxmaj image xxmaj entertainment is certainly of superior quality , and the best parts are there , but it 's nonetheless good to see the rest of the film and fill in some loose story ends . xxmaj in the xxmaj shepard print , the film ends with xxmaj mary stating , \" xxmaj you see , i 've changed my mind -- xxmaj i'm never going home . \" xxmaj yet , in the complete version , xxmaj mary and xxmaj kenneth xxmaj driscoll end their relationship soon after that scene  xxmaj mary returns home to the country  and xxmaj driscoll rekindles his relationship with xxmaj vivian . xxmaj this additional footage develops the character xxmaj vivian , who had little relevance in the xxmaj shepard version . xxmaj moreover , in the complete version , the film begins in the xxmaj new xxmaj jersey countryside with xxmaj mary , where she reads and fantasizes about her ideal lover . xxmaj she 's disappointed by the reality of the advances by farm \" chore boy \" xxmaj johnny xxmaj xxunk ( a character completely absent from the xxmaj shepard version ) , but after her affair with xxmaj driscoll , she returns to the country to presumably and eventually become a farmer 's wife . xxmaj regardless of the print , ' a xxmaj girl 's xxmaj folly ' is a good little film for 1917 , made by one of the top directors of the 1910s xxmaj maurice xxmaj tourneur . xxmaj in it , xxmaj tourneur takes plenty of jabs at his own business , including by playing a caricature of himself -- the director of the film - within - the - film . xxmaj the two leads also give quality performances by early screen - acting standards : xxmaj robert xxmaj warwick , an actor playing a skirt - chasing star , and xxmaj doris xxmaj kenyon , as an ingénue aspiring to play an ingénue on the screen . xxmaj self - referential films , which made film - making the focus of the films , were nothing new by now . xxmaj mack xxmaj sennett had already parodied this type of film three years prior with ' xxmaj mabel 's xxmaj dramatic xxmaj career ' . xxmaj several aspects of this one stand out , though . xxmaj frances xxmaj marion 's intertitles are humorous , including illustrations of the actors on a xxunk with a hand directing them -- remarkable for 1917 . i especially liked the film 's final title cards where two observers remark on the film 's happy ending : \" xxmaj gee but ai n't that xxunk ! \" xxmaj and , the other replies , \" xxmaj romance , xxunk !  xxmaj that 's movin ' pictures ! \" xxmaj fellow female screenwriter xxmaj anita xxmaj loos made a similar self - referential conclusion to another film from 1917 ' xxmaj wild and xxmaj xxunk ' . xxmaj both writers helped change the role of their professions in the business and art . xxmaj some of the photography by xxmaj tourneur and xxmaj john van den xxmaj xxunk is good , especially concerning the film - making business . xxmaj the use of mirrors in several scenes is a nice xxunk of the film 's self - xxunk . xxmaj furthermore , the editing is exceptional . xxmaj the quick xxunk during the studio scenes is especially salient ; it serves to punctuate the hectic pace filmmakers work at , especially back then .,xxbos xxmaj have you ever felt like your being watched , like someone keeps tabs on every move you make ? xxmaj well , just remember before you decide to break the law , the xxup fbi will always be there . xxmaj at least that 's the feeling you get after watching the gripping but slightly mellow crime drama , xxmaj the xxup fbi story . xxmaj it traces the roots of the organization from a small bureau to one of the most modern facilities in the world ( in 1959 ) , by telling the story through they eyes of one of its agents , xxmaj chip xxmaj hardesty ( xxmaj james xxunk was with the xxup fbi from day one , and he gladly puts his job above everything else in the world , even occasionally his family . xxmaj the xxup fbi xxmaj story tracks his life by depicting what he does as an agent , and how being one affects his personal life . xxmaj the film does a spectacular job of showing what kind of cases the xxup fbi handles and how they handle them . xxmaj the audience gets to see xxmaj chip stop xxmaj ku xxmaj klux xxmaj klan riots , go undercover to solve an xxmaj indian murder / estate scandal , bring xxunk into custody , rescue hostages , and helped fight in xxup wwii . xxmaj he even helped bring xxmaj communist spies to justice . xxmaj stewart , in a vaguely complex performance , is stellar ( as always ) as the slightly neurotic agent who loves his job maybe a little too much . xxmaj one of the best parts about this film is that we get to see the inside workings of both xxmaj chip 's family life and his job . xxmaj we witness him suffer through the death of his best friend and then his son . xxmaj we also observe his wife having a miscarriage , and his marriage having rocky times . xxmaj almost all of his personal problems are caused by love of his job . xxmaj vera xxmaj miles gives a spotty performance , but it 's very convincing , none the less . xxmaj she was never a brilliant actress , but there was always something very attractive and alluring about her . xxmaj well maybe that 's just me ? xxmaj sadly , none of the other performances are worth mentioning , but the attention - grabbing story managed to keep me exceedingly interested . xxmaj the cinematography of this film was impressive , especially the scenes in the xxmaj south xxmaj american jungles . xxmaj the colors all had a texture that really set the atmosphere of the film . xxmaj perhaps the greatest part of this movie was xxmaj mervyn xxmaj leroy 's fabulous direction . xxmaj every scene was so fluid they just rolled together to tell a brilliant story . xxmaj it 's chock full of ingenious camera shots , some with a very xxmaj hitchcockian feel . xxmaj all in all , xxmaj the xxup fbi xxmaj story is a spectacular , but overlooked film . xxmaj clocking in at two and a half hours some viewers might be intimidated , but if you get the chance i recommend jumping into this one . i enjoyed xxmaj jimmy xxmaj stewart 's spectacular performance , and the captivating story .,xxbos i 'm here again in your local shopping mall ( of course , 'cause that 's where the high school kids hang out xxrep 5 ! ) to demonstrate how awful \" xxup xxunk xxup poo : xxup prom xxup courier \" really is xxrep 5 ! xxmaj to prove how bad this joke of a xxup dcom this is xxrep 6 . we 're going to take these four sumo wrestlers , and stuff them into this photo booth . xxmaj how ... cozy xxrep 5 ! xxmaj hai ! h xxrep 7 u a xxrep 4 r g xxrep 6 h xxrep 14 ! xxmaj uh xxrep 5 ! xxmaj how awful is it xxrep 5 ? xxmaj it 's so bad , xxmaj disney xxmaj channel flushes away its money , yet again , with those exciting yet determining 10-second promos , keeping the viewers wondering , \" xxup when xxup is xxup this xxup going xxup to xxup be xxup on xxrep 5 ? \" xxmaj and then , suddenly , when it xxup does come on , for one , this not only got a higher xxup tv rating than usual , but this was only seen once xxrep 5 ! xxmaj oh , no xxrep 5 ! xxmaj one time everyone xxrep 5 ! xxmaj plus , this movie is about high school and stuff , and believe me , i will xxup not go any further with what else is in there xxrep 5 . xxmaj say ch ... smile xxrep 5 ! ( xxup snap ! ) xxmaj avoid this one at all costs . 0 / 10,xxbos xxmaj citizen x tells the real life drama of the search for a serial killer dubbed \" xxmaj the xxmaj rostov xxmaj ripper \" xxmaj this great film shows the long journey it took to try to apprehend a killer . xxmaj the film shows how politics may haver helped the killer to continue his rampage for over 12 years . ( xxmaj possibly over 50 victims , mostly women and children ) xxmaj the performances of xxmaj stephen xxmaj rea as the lead detective and xxmaj donald xxmaj sutherland as the overall investigation lead was superb . xxmaj jeffrey demunn as the xxmaj ripper xxmaj andrei xxmaj xxunk xxmaj chikatilo . xxmaj this is the type of film which will mesmerize you and immediately have you on the internet researching the real case . xxmaj this a film not to be missed . xxmaj it debuted i believe on xxup hbo and never did get a theatrical release to my understanding . xxmaj great film,xxbos xxmaj this film , as low budget as it may be , is one of the best psychological thrillers i 've ever seen . xxmaj if you accept that it 's low budget from the start , you can appreciate just how good of a story it is , how very well written the script is , and how great the filmmaker was to produce something so wonderful with so little money . xxmaj all the elements of a great film are here . xxmaj the visuals , though shot on digital , were gorgeous in places . xxmaj the bizarre , dreamy feel of the film is captured particularly well in the scene with the talking dog , that scene was just amazing . xxmaj it 's such a trippy piece of work , but not done in a pretentious way , and because of that i have a whole lot of respect for this film . xxmaj it comes highly recommended to anyone looking for something unique and captivating , and different from much of the repetitive films that are out there .\n",
              "y: CategoryList\n",
              "positive,positive,negative,positive,positive\n",
              "Path: /content/drive/My Drive/DATA-475/imdb;\n",
              "\n",
              "Test: LabelList (25000 items)\n",
              "x: TextList\n",
              "xxbos i went and saw this movie last night after being coaxed to by a few friends of mine . i 'll admit that i was reluctant to see it because from what i knew of xxmaj ashton xxmaj kutcher he was only able to do comedy . i was wrong . xxmaj kutcher played the character of xxmaj jake xxmaj fischer very well , and xxmaj kevin xxmaj costner played xxmaj ben xxmaj randall with such professionalism . xxmaj the sign of a good movie is that it can toy with our emotions . xxmaj this one did exactly that . xxmaj the entire theater ( which was sold out ) was overcome by laughter during the first half of the movie , and were moved to tears during the second half . xxmaj while exiting the theater i not only saw many women in tears , but many full grown men as well , trying desperately not to let anyone see them crying . xxmaj this movie was great , and i suggest that you go see it before you judge .,xxbos xxmaj actor turned director xxmaj bill xxmaj paxton follows up his promising debut , the xxmaj gothic - horror \" xxmaj frailty \" , with this family friendly sports drama about the 1913 xxup u.s. xxmaj open where a young xxmaj american caddy rises from his humble background to play against his xxmaj xxunk idol in what was dubbed as \" xxmaj the xxmaj greatest xxmaj game xxmaj ever xxmaj played . \" i 'm no fan of golf , and these scrappy underdog sports flicks are a dime a dozen ( most recently done to grand effect with \" xxmaj miracle \" and \" xxmaj cinderella xxmaj man \" ) , but some how this film was enthralling all the same . xxmaj the film starts with some creative opening credits ( imagine a xxmaj xxunk version of the animated opening credits of xxup hbo 's \" xxmaj carnivale \" and \" xxmaj rome \" ) , but xxunk along slowly for its first by - the - numbers hour . xxmaj once the action moves to the xxup u.s. xxmaj open things pick up very well . xxmaj paxton does a nice job and shows a knack for effective directorial flourishes ( i loved the rain - soaked montage of the action on day two of the open ) that propel the plot further or add some unexpected psychological depth to the proceedings . xxmaj there 's some compelling character development when the xxmaj british xxmaj harry xxmaj xxunk is haunted by images of the aristocrats in black suits and top hats who destroyed his family cottage as a child to make way for a golf course . xxmaj he also does a good job of visually depicting what goes on in the players ' heads under pressure . xxmaj golf , a painfully boring sport , is brought vividly alive here . xxmaj credit should also be given the set designers and costume department for creating an engaging period - piece atmosphere of xxmaj london and xxmaj boston at the beginning of the twentieth century . xxmaj you know how this is going to end not only because it 's based on a true story but also because films in this genre follow the same template over and over , but xxmaj paxton puts on a better than average show and perhaps indicates more talent behind the camera than he ever had in front of it . xxmaj despite the formulaic nature , this is a nice and easy film to root for that deserves to find an audience .,xxbos xxmaj as a recreational xxunk with some knowledge of the sport 's history , i was pleased with xxmaj disney 's sensitivity to the issues of class in golf in the early twentieth century . xxmaj the movie depicted well the psychological battles that xxmaj harry xxmaj xxunk fought within himself , from his childhood trauma of being evicted to his own inability to break that glass ceiling that prevents him from being accepted as an equal in xxmaj english golf society . xxmaj likewise , the young xxmaj xxunk goes through his own class struggles , being a mere xxunk in the eyes of the upper crust xxmaj americans who scoff at his attempts to rise above his standing . xxmaj what i loved best , however , is how this theme of class is manifested in the characters of xxmaj xxunk 's parents . xxmaj his father is a working - class drone who sees the value of hard work but is intimidated by the upper class ; his mother , however , recognizes her son 's talent and desire and encourages him to pursue his dream of competing against those who think he is inferior . xxmaj finally , the golf scenes are well photographed . xxmaj although the course used in the movie was not the actual site of the historical tournament , the little liberties taken by xxmaj disney do not detract from the beauty of the film . xxmaj there 's one little xxmaj disney moment at the pool table ; otherwise , the viewer does not really think xxmaj disney . xxmaj the ending , as in \" xxmaj miracle , \" is not some xxmaj disney creation , but one that only human history could have written .,xxbos i saw this film in a sneak preview , and it is delightful . xxmaj the cinematography is unusually creative , the acting is good , and the story is fabulous . xxmaj if this movie does not do well , it wo n't be because it does n't deserve to . xxmaj before this film , i did n't realize how charming xxmaj shia xxmaj xxunk could be . xxmaj he does a marvelous , self - contained , job as the lead . xxmaj there 's something incredibly sweet about him , and it makes the movie even better . xxmaj the other actors do a good job as well , and the film contains moments of really high suspense , more than one might expect from a movie about golf . xxmaj sports movies are a dime a dozen , but this one stands out . xxmaj this is one i 'd recommend to anyone .,xxbos xxmaj bill xxmaj paxton has taken the true story of the 1913 xxup us golf open and made a film that is about much more than an extra - ordinary game of golf . xxmaj the film also deals directly with the class tensions of the early twentieth century and touches upon the profound anti - xxmaj catholic prejudices of both the xxmaj british and xxmaj american establishments . xxmaj but at heart the film is about that perennial favourite of triumph against the odds . xxmaj the acting is exemplary throughout . xxmaj stephen xxmaj xxunk is excellent as usual , but the revelation of the movie is xxmaj shia xxunk who delivers a disciplined , dignified and highly sympathetic performance as a working class xxmaj franco - xxmaj irish kid fighting his way through the prejudices of the xxmaj new xxmaj england xxup wasp establishment . xxmaj for those who are only familiar with his slap - stick performances in \" xxmaj even xxmaj stevens \" this demonstration of his maturity is a delightful surprise . xxmaj and xxmaj josh xxmaj flitter as the ten year old caddy threatens to steal every scene in which he appears . a old fashioned movie in the best sense of the word : fine acting , clear directing and a great story that grips to the end - the final scene an affectionate nod to xxmaj casablanca is just one of the many pleasures that fill a great movie .\n",
              "y: EmptyLabelList\n",
              ",,,,\n",
              "Path: /content/drive/My Drive/DATA-475/imdb, model=SequentialRNN(\n",
              "  (0): MultiBatchEncoder(\n",
              "    (module): AWD_LSTM(\n",
              "      (encoder): Embedding(44176, 400, padding_idx=1)\n",
              "      (encoder_dp): EmbeddingDropout(\n",
              "        (emb): Embedding(44176, 400, padding_idx=1)\n",
              "      )\n",
              "      (rnns): ModuleList(\n",
              "        (0): WeightDropout(\n",
              "          (module): LSTM(400, 1152, batch_first=True)\n",
              "        )\n",
              "        (1): WeightDropout(\n",
              "          (module): LSTM(1152, 1152, batch_first=True)\n",
              "        )\n",
              "        (2): WeightDropout(\n",
              "          (module): LSTM(1152, 400, batch_first=True)\n",
              "        )\n",
              "      )\n",
              "      (input_dp): RNNDropout()\n",
              "      (hidden_dps): ModuleList(\n",
              "        (0): RNNDropout()\n",
              "        (1): RNNDropout()\n",
              "        (2): RNNDropout()\n",
              "      )\n",
              "    )\n",
              "  )\n",
              "  (1): PoolingLinearClassifier(\n",
              "    (layers): Sequential(\n",
              "      (0): BatchNorm1d(1200, eps=1e-05, momentum=0.1, affine=True, track_running_stats=True)\n",
              "      (1): Dropout(p=0.2, inplace=False)\n",
              "      (2): Linear(in_features=1200, out_features=50, bias=True)\n",
              "      (3): ReLU(inplace=True)\n",
              "      (4): BatchNorm1d(50, eps=1e-05, momentum=0.1, affine=True, track_running_stats=True)\n",
              "      (5): Dropout(p=0.1, inplace=False)\n",
              "      (6): Linear(in_features=50, out_features=2, bias=True)\n",
              "    )\n",
              "  )\n",
              "), opt_func=functools.partial(<class 'torch.optim.adam.Adam'>, betas=(0.9, 0.99)), loss_func=FlattenedLoss of CrossEntropyLoss(), metrics=[<function accuracy at 0x7fe931c7eea0>], true_wd=True, bn_wd=True, wd=0.01, train_bn=True, path=PosixPath('/content/drive/My Drive/DATA-475/imdb'), model_dir='models', callback_fns=[functools.partial(<class 'fastai.basic_train.Recorder'>, add_time=True, silent=False)], callbacks=[...], layer_groups=[Sequential(\n",
              "  (0): Embedding(44176, 400, padding_idx=1)\n",
              "  (1): EmbeddingDropout(\n",
              "    (emb): Embedding(44176, 400, padding_idx=1)\n",
              "  )\n",
              "), Sequential(\n",
              "  (0): WeightDropout(\n",
              "    (module): LSTM(400, 1152, batch_first=True)\n",
              "  )\n",
              "  (1): RNNDropout()\n",
              "), Sequential(\n",
              "  (0): WeightDropout(\n",
              "    (module): LSTM(1152, 1152, batch_first=True)\n",
              "  )\n",
              "  (1): RNNDropout()\n",
              "), Sequential(\n",
              "  (0): WeightDropout(\n",
              "    (module): LSTM(1152, 400, batch_first=True)\n",
              "  )\n",
              "  (1): RNNDropout()\n",
              "), Sequential(\n",
              "  (0): PoolingLinearClassifier(\n",
              "    (layers): Sequential(\n",
              "      (0): BatchNorm1d(1200, eps=1e-05, momentum=0.1, affine=True, track_running_stats=True)\n",
              "      (1): Dropout(p=0.2, inplace=False)\n",
              "      (2): Linear(in_features=1200, out_features=50, bias=True)\n",
              "      (3): ReLU(inplace=True)\n",
              "      (4): BatchNorm1d(50, eps=1e-05, momentum=0.1, affine=True, track_running_stats=True)\n",
              "      (5): Dropout(p=0.1, inplace=False)\n",
              "      (6): Linear(in_features=50, out_features=2, bias=True)\n",
              "    )\n",
              "  )\n",
              ")], add_time=True, silent=False)\n",
              "alpha: 2.0\n",
              "beta: 1.0], layer_groups=[Sequential(\n",
              "  (0): Embedding(44176, 400, padding_idx=1)\n",
              "  (1): EmbeddingDropout(\n",
              "    (emb): Embedding(44176, 400, padding_idx=1)\n",
              "  )\n",
              "), Sequential(\n",
              "  (0): WeightDropout(\n",
              "    (module): LSTM(400, 1152, batch_first=True)\n",
              "  )\n",
              "  (1): RNNDropout()\n",
              "), Sequential(\n",
              "  (0): WeightDropout(\n",
              "    (module): LSTM(1152, 1152, batch_first=True)\n",
              "  )\n",
              "  (1): RNNDropout()\n",
              "), Sequential(\n",
              "  (0): WeightDropout(\n",
              "    (module): LSTM(1152, 400, batch_first=True)\n",
              "  )\n",
              "  (1): RNNDropout()\n",
              "), Sequential(\n",
              "  (0): PoolingLinearClassifier(\n",
              "    (layers): Sequential(\n",
              "      (0): BatchNorm1d(1200, eps=1e-05, momentum=0.1, affine=True, track_running_stats=True)\n",
              "      (1): Dropout(p=0.2, inplace=False)\n",
              "      (2): Linear(in_features=1200, out_features=50, bias=True)\n",
              "      (3): ReLU(inplace=True)\n",
              "      (4): BatchNorm1d(50, eps=1e-05, momentum=0.1, affine=True, track_running_stats=True)\n",
              "      (5): Dropout(p=0.1, inplace=False)\n",
              "      (6): Linear(in_features=50, out_features=2, bias=True)\n",
              "    )\n",
              "  )\n",
              ")], add_time=True, silent=False)"
            ]
          },
          "metadata": {
            "tags": []
          },
          "execution_count": 25
        }
      ]
    },
    {
      "cell_type": "code",
      "metadata": {
        "id": "mLL6cVkhOmT4",
        "outputId": "1323062d-372f-4199-8ee6-7eb963db2d27",
        "colab": {
          "base_uri": "https://localhost:8080/",
          "height": 406
        }
      },
      "source": [
        "# tune the text_classifier_learner to accpetable accuracy (>80%)\n",
        "clas_learner.lr_find()\n",
        "clas_learner.recorder.plot(suggestion=True)"
      ],
      "execution_count": 26,
      "outputs": [
        {
          "output_type": "display_data",
          "data": {
            "text/html": [
              "\n",
              "    <div>\n",
              "        <style>\n",
              "            /* Turns off some styling */\n",
              "            progress {\n",
              "                /* gets rid of default border in Firefox and Opera. */\n",
              "                border: none;\n",
              "                /* Needs to be in here for Safari polyfill so background images work as expected. */\n",
              "                background-size: auto;\n",
              "            }\n",
              "            .progress-bar-interrupted, .progress-bar-interrupted::-webkit-progress-bar {\n",
              "                background: #F44336;\n",
              "            }\n",
              "        </style>\n",
              "      <progress value='0' class='' max='1' style='width:300px; height:20px; vertical-align: middle;'></progress>\n",
              "      0.00% [0/1 00:00<00:00]\n",
              "    </div>\n",
              "    \n",
              "<table border=\"1\" class=\"dataframe\">\n",
              "  <thead>\n",
              "    <tr style=\"text-align: left;\">\n",
              "      <th>epoch</th>\n",
              "      <th>train_loss</th>\n",
              "      <th>valid_loss</th>\n",
              "      <th>accuracy</th>\n",
              "      <th>time</th>\n",
              "    </tr>\n",
              "  </thead>\n",
              "  <tbody>\n",
              "  </tbody>\n",
              "</table><p>\n",
              "\n",
              "    <div>\n",
              "        <style>\n",
              "            /* Turns off some styling */\n",
              "            progress {\n",
              "                /* gets rid of default border in Firefox and Opera. */\n",
              "                border: none;\n",
              "                /* Needs to be in here for Safari polyfill so background images work as expected. */\n",
              "                background-size: auto;\n",
              "            }\n",
              "            .progress-bar-interrupted, .progress-bar-interrupted::-webkit-progress-bar {\n",
              "                background: #F44336;\n",
              "            }\n",
              "        </style>\n",
              "      <progress value='96' class='' max='624' style='width:300px; height:20px; vertical-align: middle;'></progress>\n",
              "      15.38% [96/624 00:22<02:02 1.9336]\n",
              "    </div>\n",
              "    "
            ],
            "text/plain": [
              "<IPython.core.display.HTML object>"
            ]
          },
          "metadata": {
            "tags": []
          }
        },
        {
          "output_type": "stream",
          "text": [
            "LR Finder is complete, type {learner_name}.recorder.plot() to see the graph.\n",
            "Min numerical gradient: 1.10E-06\n",
            "Min loss divided by 10: 1.74E-02\n"
          ],
          "name": "stdout"
        },
        {
          "output_type": "display_data",
          "data": {
            "image/png": "[encoded data removed]",
            "text/plain": [
              "<Figure size 432x288 with 1 Axes>"
            ]
          },
          "metadata": {
            "tags": [],
            "needs_background": "light"
          }
        }
      ]
    },
    {
      "cell_type": "code",
      "metadata": {
        "id": "2Ypcafg-50ct",
        "outputId": "ab384695-fc43-479d-d007-c8066eb1c11e",
        "colab": {
          "base_uri": "https://localhost:8080/",
          "height": 166
        }
      },
      "source": [
        "lr = clas_learner.recorder.min_grad_lr\n",
        "clas_learner.fit_one_cycle(4, lr)"
      ],
      "execution_count": 27,
      "outputs": [
        {
          "output_type": "display_data",
          "data": {
            "text/html": [
              "<table border=\"1\" class=\"dataframe\">\n",
              "  <thead>\n",
              "    <tr style=\"text-align: left;\">\n",
              "      <th>epoch</th>\n",
              "      <th>train_loss</th>\n",
              "      <th>valid_loss</th>\n",
              "      <th>accuracy</th>\n",
              "      <th>time</th>\n",
              "    </tr>\n",
              "  </thead>\n",
              "  <tbody>\n",
              "    <tr>\n",
              "      <td>0</td>\n",
              "      <td>0.731919</td>\n",
              "      <td>0.689277</td>\n",
              "      <td>0.586883</td>\n",
              "      <td>02:41</td>\n",
              "    </tr>\n",
              "    <tr>\n",
              "      <td>1</td>\n",
              "      <td>0.714440</td>\n",
              "      <td>0.659940</td>\n",
              "      <td>0.615677</td>\n",
              "      <td>02:48</td>\n",
              "    </tr>\n",
              "    <tr>\n",
              "      <td>2</td>\n",
              "      <td>0.700967</td>\n",
              "      <td>0.649986</td>\n",
              "      <td>0.628874</td>\n",
              "      <td>02:46</td>\n",
              "    </tr>\n",
              "    <tr>\n",
              "      <td>3</td>\n",
              "      <td>0.702578</td>\n",
              "      <td>0.648902</td>\n",
              "      <td>0.629874</td>\n",
              "      <td>02:46</td>\n",
              "    </tr>\n",
              "  </tbody>\n",
              "</table>"
            ],
            "text/plain": [
              "<IPython.core.display.HTML object>"
            ]
          },
          "metadata": {
            "tags": []
          }
        }
      ]
    },
    {
      "cell_type": "code",
      "metadata": {
        "id": "6VHA0eRISBbF",
        "outputId": "9f7243dd-1e27-4934-a9f1-55a61909ddb0",
        "colab": {
          "base_uri": "https://localhost:8080/",
          "height": 138
        }
      },
      "source": [
        "clas_learner.predict(\"This is a horrible movie.\")"
      ],
      "execution_count": 28,
      "outputs": [
        {
          "output_type": "stream",
          "text": [
            "/usr/local/lib/python3.6/dist-packages/fastai/text/data.py:339: UserWarning: This overload of nonzero is deprecated:\n",
            "\tnonzero()\n",
            "Consider using one of the following signatures instead:\n",
            "\tnonzero(*, bool as_tuple) (Triggered internally at  /pytorch/torch/csrc/utils/python_arg_parser.cpp:766.)\n",
            "  idx_min = (t != self.pad_idx).nonzero().min()\n"
          ],
          "name": "stderr"
        },
        {
          "output_type": "execute_result",
          "data": {
            "text/plain": [
              "(Category tensor(1), tensor(1), tensor([0.2663, 0.7337]))"
            ]
          },
          "metadata": {
            "tags": []
          },
          "execution_count": 28
        }
      ]
    },
    {
      "cell_type": "code",
      "metadata": {
        "id": "CXgIKlWb-Q8D",
        "outputId": "307e2ab8-a757-4bc3-d8c9-686c2c02dd74",
        "colab": {
          "base_uri": "https://localhost:8080/",
          "height": 34
        }
      },
      "source": [
        "clas_learner.predict(\"This is a great movie,\")"
      ],
      "execution_count": 29,
      "outputs": [
        {
          "output_type": "execute_result",
          "data": {
            "text/plain": [
              "(Category tensor(1), tensor(1), tensor([0.0855, 0.9145]))"
            ]
          },
          "metadata": {
            "tags": []
          },
          "execution_count": 29
        }
      ]
    },
    {
      "cell_type": "code",
      "metadata": {
        "id": "mazhyIrA-R0m",
        "outputId": "0d4bcf44-d6c0-46d2-d40f-71b9eedb96c0",
        "colab": {
          "base_uri": "https://localhost:8080/",
          "height": 34
        }
      },
      "source": [
        "# Check the label mapping\n",
        "# suppose it returns {'negative': 0, 'positive': 1}\n",
        "data_clas.train_ds.y.c2i"
      ],
      "execution_count": 30,
      "outputs": [
        {
          "output_type": "execute_result",
          "data": {
            "text/plain": [
              "{'negative': 0, 'positive': 1}"
            ]
          },
          "metadata": {
            "tags": []
          },
          "execution_count": 30
        }
      ]
    },
    {
      "cell_type": "code",
      "metadata": {
        "id": "-YRl2rhMPvuW"
      },
      "source": [
        "import pandas as pd\n",
        "\n",
        "\n",
        "df = pd.read_csv(path+\"/test.csv\")\n",
        "y_true = tensor(df[\"sentiment\"]==\"positive\")"
      ],
      "execution_count": 31,
      "outputs": []
    },
    {
      "cell_type": "code",
      "metadata": {
        "id": "oRekyOZ-1qQ1",
        "outputId": "bf3e1731-a5e4-42a4-d3ce-aa4fb9f1bbb3",
        "colab": {
          "base_uri": "https://localhost:8080/",
          "height": 311
        }
      },
      "source": [
        "interp = TextClassificationInterpretation.from_learner(\n",
        "    clas_learner, \n",
        "    ds_type=DatasetType.Test  ## test removed \n",
        ")\n",
        "interp.y_true = tensor(df[\"sentiment\"]==\"positive\")\n",
        "interp.plot_confusion_matrix()"
      ],
      "execution_count": 32,
      "outputs": [
        {
          "output_type": "display_data",
          "data": {
            "text/html": [
              ""
            ],
            "text/plain": [
              "<IPython.core.display.HTML object>"
            ]
          },
          "metadata": {
            "tags": []
          }
        },
        {
          "output_type": "display_data",
          "data": {
            "image/png": "[encoded data removed]",
            "text/plain": [
              "<Figure size 432x288 with 1 Axes>"
            ]
          },
          "metadata": {
            "tags": [],
            "needs_background": "light"
          }
        }
      ]
    },
    {
      "cell_type": "code",
      "metadata": {
        "id": "Ov9w-uNT8Ldd"
      },
      "source": [
        "from fastai.metrics import accuracy"
      ],
      "execution_count": 33,
      "outputs": []
    },
    {
      "cell_type": "code",
      "metadata": {
        "id": "x1GWfJNnOzaH",
        "outputId": "871325dd-c4d1-4b21-8895-835ca7915a9a",
        "colab": {
          "base_uri": "https://localhost:8080/",
          "height": 34
        }
      },
      "source": [
        "accuracy(interp.preds, interp.y_true)"
      ],
      "execution_count": 34,
      "outputs": [
        {
          "output_type": "execute_result",
          "data": {
            "text/plain": [
              "tensor(0.6067)"
            ]
          },
          "metadata": {
            "tags": []
          },
          "execution_count": 34
        }
      ]
    }
  ]
}